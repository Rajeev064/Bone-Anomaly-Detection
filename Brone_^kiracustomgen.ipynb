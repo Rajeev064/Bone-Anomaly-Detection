{
  "nbformat": 4,
  "nbformat_minor": 0,
  "metadata": {
    "accelerator": "GPU",
    "colab": {
      "name": "Brone|^kiracustomgen.ipynb",
      "provenance": [],
      "collapsed_sections": []
    },
    "kernelspec": {
      "display_name": "Python 3",
      "name": "python3"
    },
    "language_info": {
      "name": "python"
    }
  },
  "cells": [
    {
      "cell_type": "code",
      "metadata": {
        "id": "kphUDHDQiH6g"
      },
      "source": [
        "import tensorflow as tf\n",
        "import numpy as np\n",
        "import keras\n",
        "import pandas as pd\n",
        "import matplotlib.pyplot as plt\n",
        "from sklearn.utils import shuffle\n",
        "import os\n",
        "import cv2\n",
        "import random\n",
        "import keras.backend as K\n",
        "import sklearn\n",
        "%matplotlib inline"
      ],
      "execution_count": null,
      "outputs": []
    },
    {
      "cell_type": "code",
      "metadata": {
        "id": "bGiKB22oOlCO"
      },
      "source": [
        "# train_no = int(len(train_data)*0.9)\n",
        "# training_data = train_data[:train_no]\n",
        "# validation_data = train_data[train_no:]\n",
        "# validation_data.to_csv('/content/drive/MyDrive/Broner/valid_csv.csv',index=False)\n",
        "# training_data.to_csv('/content/drive/MyDrive/Broner/train_csv.csv',index=False)\n",
        "# test_data.to_csv('/content/drive/MyDrive/Broner/test_csv.csv',index=False)"
      ],
      "execution_count": null,
      "outputs": []
    },
    {
      "cell_type": "code",
      "metadata": {
        "id": "flvrVUQvl0Co"
      },
      "source": [
        "# ROOT_DIR = '/content/drive/MyDrive/Broner'\n",
        "# train_data = pd.read_csv('/content/drive/MyDrive/Broner/train_csv.csv')\n",
        "# val_data   = pd.read_csv('/content/drive/MyDrive/Broner/valid_csv.csv')\n",
        "# test_data  = pd.read_csv('/content/drive/MyDrive/Broner/test_csv.csv')\n",
        "# train_data.head()"
      ],
      "execution_count": null,
      "outputs": []
    },
    {
      "cell_type": "code",
      "metadata": {
        "colab": {
          "base_uri": "https://localhost:8080/",
          "height": 191
        },
        "id": "ylRCrQ76j2o6",
        "outputId": "0da97b15-3e07-4f1b-b9ec-d0100d7dc716"
      },
      "source": [
        "ROOT_DIR = '/content/drive/MyDrive/Broner'\n",
        "train_data = pd.read_csv('/content/drive/MyDrive/Broner/MURA-v1.1/train_path_label.csv' , dtype=str)\n",
        "test_data  = pd.read_csv('/content/drive/MyDrive/Broner/MURA-v1.1/valid_path_label.csv' , dtype=str)\n",
        "train_data.head()"
      ],
      "execution_count": null,
      "outputs": [
        {
          "output_type": "execute_result",
          "data": {
            "text/html": [
              "<div>\n",
              "<style scoped>\n",
              "    .dataframe tbody tr th:only-of-type {\n",
              "        vertical-align: middle;\n",
              "    }\n",
              "\n",
              "    .dataframe tbody tr th {\n",
              "        vertical-align: top;\n",
              "    }\n",
              "\n",
              "    .dataframe thead th {\n",
              "        text-align: right;\n",
              "    }\n",
              "</style>\n",
              "<table border=\"1\" class=\"dataframe\">\n",
              "  <thead>\n",
              "    <tr style=\"text-align: right;\">\n",
              "      <th></th>\n",
              "      <th>0</th>\n",
              "      <th>label</th>\n",
              "    </tr>\n",
              "  </thead>\n",
              "  <tbody>\n",
              "    <tr>\n",
              "      <th>0</th>\n",
              "      <td>MURA-v1.1/train/XR_SHOULDER/patient00001/study...</td>\n",
              "      <td>1</td>\n",
              "    </tr>\n",
              "    <tr>\n",
              "      <th>1</th>\n",
              "      <td>MURA-v1.1/train/XR_SHOULDER/patient00001/study...</td>\n",
              "      <td>1</td>\n",
              "    </tr>\n",
              "    <tr>\n",
              "      <th>2</th>\n",
              "      <td>MURA-v1.1/train/XR_SHOULDER/patient00001/study...</td>\n",
              "      <td>1</td>\n",
              "    </tr>\n",
              "    <tr>\n",
              "      <th>3</th>\n",
              "      <td>MURA-v1.1/train/XR_SHOULDER/patient00002/study...</td>\n",
              "      <td>1</td>\n",
              "    </tr>\n",
              "    <tr>\n",
              "      <th>4</th>\n",
              "      <td>MURA-v1.1/train/XR_SHOULDER/patient00002/study...</td>\n",
              "      <td>1</td>\n",
              "    </tr>\n",
              "  </tbody>\n",
              "</table>\n",
              "</div>"
            ],
            "text/plain": [
              "                                                   0 label\n",
              "0  MURA-v1.1/train/XR_SHOULDER/patient00001/study...     1\n",
              "1  MURA-v1.1/train/XR_SHOULDER/patient00001/study...     1\n",
              "2  MURA-v1.1/train/XR_SHOULDER/patient00001/study...     1\n",
              "3  MURA-v1.1/train/XR_SHOULDER/patient00002/study...     1\n",
              "4  MURA-v1.1/train/XR_SHOULDER/patient00002/study...     1"
            ]
          },
          "metadata": {
            "tags": []
          },
          "execution_count": 2
        }
      ]
    },
    {
      "cell_type": "code",
      "metadata": {
        "colab": {
          "base_uri": "https://localhost:8080/"
        },
        "id": "C4-IpgtMcfx-",
        "outputId": "7b0823b0-8107-4090-d0dd-02784e985803"
      },
      "source": [
        "print(len(train_data),len(test_data))"
      ],
      "execution_count": null,
      "outputs": [
        {
          "output_type": "stream",
          "text": [
            "36808 3197\n"
          ],
          "name": "stdout"
        }
      ]
    },
    {
      "cell_type": "code",
      "metadata": {
        "id": "qi7kqbUT3F6r"
      },
      "source": [
        "train_shoulder = train_data[:8379]\n",
        "train_humerus  = train_data[8379:9651]\n",
        "train_forearm  = train_data[29440:31265]\n",
        "\n",
        "test_shoulder = test_data[1708:2271]\n",
        "test_forearm  = test_data[659:960]\n",
        "test_humerus  = test_data[1420:1708]\n",
        "# test_data  = test_data[1708:2271]\n",
        "# train_data = train_data.sample(frac = 1)\n",
        "# test_data  = test_data.sample(frac = 1)\n",
        "# # train_data = train_data[:100]\n",
        "# # val_data   = val_data[:20]\n",
        "# # test_data  = test_data[:10]\n",
        "# train_data.head(20)"
      ],
      "execution_count": null,
      "outputs": []
    },
    {
      "cell_type": "code",
      "metadata": {
        "colab": {
          "base_uri": "https://localhost:8080/",
          "height": 391
        },
        "id": "kcmABF9JG38b",
        "outputId": "16a3e3b4-8997-4814-94d1-03682ee7a234"
      },
      "source": [
        "train_data = pd.concat([train_shoulder , train_forearm , train_humerus] , ignore_index=True)\n",
        "train_data"
      ],
      "execution_count": null,
      "outputs": [
        {
          "output_type": "execute_result",
          "data": {
            "text/html": [
              "<div>\n",
              "<style scoped>\n",
              "    .dataframe tbody tr th:only-of-type {\n",
              "        vertical-align: middle;\n",
              "    }\n",
              "\n",
              "    .dataframe tbody tr th {\n",
              "        vertical-align: top;\n",
              "    }\n",
              "\n",
              "    .dataframe thead th {\n",
              "        text-align: right;\n",
              "    }\n",
              "</style>\n",
              "<table border=\"1\" class=\"dataframe\">\n",
              "  <thead>\n",
              "    <tr style=\"text-align: right;\">\n",
              "      <th></th>\n",
              "      <th>0</th>\n",
              "      <th>label</th>\n",
              "    </tr>\n",
              "  </thead>\n",
              "  <tbody>\n",
              "    <tr>\n",
              "      <th>0</th>\n",
              "      <td>MURA-v1.1/train/XR_SHOULDER/patient00001/study...</td>\n",
              "      <td>1</td>\n",
              "    </tr>\n",
              "    <tr>\n",
              "      <th>1</th>\n",
              "      <td>MURA-v1.1/train/XR_SHOULDER/patient00001/study...</td>\n",
              "      <td>1</td>\n",
              "    </tr>\n",
              "    <tr>\n",
              "      <th>2</th>\n",
              "      <td>MURA-v1.1/train/XR_SHOULDER/patient00001/study...</td>\n",
              "      <td>1</td>\n",
              "    </tr>\n",
              "    <tr>\n",
              "      <th>3</th>\n",
              "      <td>MURA-v1.1/train/XR_SHOULDER/patient00002/study...</td>\n",
              "      <td>1</td>\n",
              "    </tr>\n",
              "    <tr>\n",
              "      <th>4</th>\n",
              "      <td>MURA-v1.1/train/XR_SHOULDER/patient00002/study...</td>\n",
              "      <td>1</td>\n",
              "    </tr>\n",
              "    <tr>\n",
              "      <th>...</th>\n",
              "      <td>...</td>\n",
              "      <td>...</td>\n",
              "    </tr>\n",
              "    <tr>\n",
              "      <th>11471</th>\n",
              "      <td>MURA-v1.1/train/XR_HUMERUS/patient03224/study1...</td>\n",
              "      <td>0</td>\n",
              "    </tr>\n",
              "    <tr>\n",
              "      <th>11472</th>\n",
              "      <td>MURA-v1.1/train/XR_HUMERUS/patient03225/study1...</td>\n",
              "      <td>0</td>\n",
              "    </tr>\n",
              "    <tr>\n",
              "      <th>11473</th>\n",
              "      <td>MURA-v1.1/train/XR_HUMERUS/patient03225/study1...</td>\n",
              "      <td>0</td>\n",
              "    </tr>\n",
              "    <tr>\n",
              "      <th>11474</th>\n",
              "      <td>MURA-v1.1/train/XR_HUMERUS/patient03226/study1...</td>\n",
              "      <td>0</td>\n",
              "    </tr>\n",
              "    <tr>\n",
              "      <th>11475</th>\n",
              "      <td>MURA-v1.1/train/XR_HUMERUS/patient03226/study1...</td>\n",
              "      <td>0</td>\n",
              "    </tr>\n",
              "  </tbody>\n",
              "</table>\n",
              "<p>11476 rows × 2 columns</p>\n",
              "</div>"
            ],
            "text/plain": [
              "                                                       0 label\n",
              "0      MURA-v1.1/train/XR_SHOULDER/patient00001/study...     1\n",
              "1      MURA-v1.1/train/XR_SHOULDER/patient00001/study...     1\n",
              "2      MURA-v1.1/train/XR_SHOULDER/patient00001/study...     1\n",
              "3      MURA-v1.1/train/XR_SHOULDER/patient00002/study...     1\n",
              "4      MURA-v1.1/train/XR_SHOULDER/patient00002/study...     1\n",
              "...                                                  ...   ...\n",
              "11471  MURA-v1.1/train/XR_HUMERUS/patient03224/study1...     0\n",
              "11472  MURA-v1.1/train/XR_HUMERUS/patient03225/study1...     0\n",
              "11473  MURA-v1.1/train/XR_HUMERUS/patient03225/study1...     0\n",
              "11474  MURA-v1.1/train/XR_HUMERUS/patient03226/study1...     0\n",
              "11475  MURA-v1.1/train/XR_HUMERUS/patient03226/study1...     0\n",
              "\n",
              "[11476 rows x 2 columns]"
            ]
          },
          "metadata": {
            "tags": []
          },
          "execution_count": 6
        }
      ]
    },
    {
      "cell_type": "code",
      "metadata": {
        "colab": {
          "base_uri": "https://localhost:8080/",
          "height": 391
        },
        "id": "9v7f84PmHfda",
        "outputId": "2035dfa5-5a9f-4af5-c867-f7c79ec22d1d"
      },
      "source": [
        "test_data = pd.concat([test_shoulder , test_forearm , test_humerus] , ignore_index=True)\n",
        "test_data"
      ],
      "execution_count": null,
      "outputs": [
        {
          "output_type": "execute_result",
          "data": {
            "text/html": [
              "<div>\n",
              "<style scoped>\n",
              "    .dataframe tbody tr th:only-of-type {\n",
              "        vertical-align: middle;\n",
              "    }\n",
              "\n",
              "    .dataframe tbody tr th {\n",
              "        vertical-align: top;\n",
              "    }\n",
              "\n",
              "    .dataframe thead th {\n",
              "        text-align: right;\n",
              "    }\n",
              "</style>\n",
              "<table border=\"1\" class=\"dataframe\">\n",
              "  <thead>\n",
              "    <tr style=\"text-align: right;\">\n",
              "      <th></th>\n",
              "      <th>0</th>\n",
              "      <th>label</th>\n",
              "    </tr>\n",
              "  </thead>\n",
              "  <tbody>\n",
              "    <tr>\n",
              "      <th>0</th>\n",
              "      <td>MURA-v1.1/valid/XR_SHOULDER/patient11676/study...</td>\n",
              "      <td>1</td>\n",
              "    </tr>\n",
              "    <tr>\n",
              "      <th>1</th>\n",
              "      <td>MURA-v1.1/valid/XR_SHOULDER/patient11676/study...</td>\n",
              "      <td>1</td>\n",
              "    </tr>\n",
              "    <tr>\n",
              "      <th>2</th>\n",
              "      <td>MURA-v1.1/valid/XR_SHOULDER/patient11676/study...</td>\n",
              "      <td>1</td>\n",
              "    </tr>\n",
              "    <tr>\n",
              "      <th>3</th>\n",
              "      <td>MURA-v1.1/valid/XR_SHOULDER/patient11703/study...</td>\n",
              "      <td>1</td>\n",
              "    </tr>\n",
              "    <tr>\n",
              "      <th>4</th>\n",
              "      <td>MURA-v1.1/valid/XR_SHOULDER/patient11703/study...</td>\n",
              "      <td>1</td>\n",
              "    </tr>\n",
              "    <tr>\n",
              "      <th>...</th>\n",
              "      <td>...</td>\n",
              "      <td>...</td>\n",
              "    </tr>\n",
              "    <tr>\n",
              "      <th>1147</th>\n",
              "      <td>MURA-v1.1/valid/XR_HUMERUS/patient11225/study1...</td>\n",
              "      <td>0</td>\n",
              "    </tr>\n",
              "    <tr>\n",
              "      <th>1148</th>\n",
              "      <td>MURA-v1.1/valid/XR_HUMERUS/patient11701/study1...</td>\n",
              "      <td>0</td>\n",
              "    </tr>\n",
              "    <tr>\n",
              "      <th>1149</th>\n",
              "      <td>MURA-v1.1/valid/XR_HUMERUS/patient11701/study1...</td>\n",
              "      <td>0</td>\n",
              "    </tr>\n",
              "    <tr>\n",
              "      <th>1150</th>\n",
              "      <td>MURA-v1.1/valid/XR_HUMERUS/patient11702/study1...</td>\n",
              "      <td>0</td>\n",
              "    </tr>\n",
              "    <tr>\n",
              "      <th>1151</th>\n",
              "      <td>MURA-v1.1/valid/XR_HUMERUS/patient11702/study1...</td>\n",
              "      <td>0</td>\n",
              "    </tr>\n",
              "  </tbody>\n",
              "</table>\n",
              "<p>1152 rows × 2 columns</p>\n",
              "</div>"
            ],
            "text/plain": [
              "                                                      0 label\n",
              "0     MURA-v1.1/valid/XR_SHOULDER/patient11676/study...     1\n",
              "1     MURA-v1.1/valid/XR_SHOULDER/patient11676/study...     1\n",
              "2     MURA-v1.1/valid/XR_SHOULDER/patient11676/study...     1\n",
              "3     MURA-v1.1/valid/XR_SHOULDER/patient11703/study...     1\n",
              "4     MURA-v1.1/valid/XR_SHOULDER/patient11703/study...     1\n",
              "...                                                 ...   ...\n",
              "1147  MURA-v1.1/valid/XR_HUMERUS/patient11225/study1...     0\n",
              "1148  MURA-v1.1/valid/XR_HUMERUS/patient11701/study1...     0\n",
              "1149  MURA-v1.1/valid/XR_HUMERUS/patient11701/study1...     0\n",
              "1150  MURA-v1.1/valid/XR_HUMERUS/patient11702/study1...     0\n",
              "1151  MURA-v1.1/valid/XR_HUMERUS/patient11702/study1...     0\n",
              "\n",
              "[1152 rows x 2 columns]"
            ]
          },
          "metadata": {
            "tags": []
          },
          "execution_count": 7
        }
      ]
    },
    {
      "cell_type": "code",
      "metadata": {
        "id": "VzJRyHiPHqtw"
      },
      "source": [
        "train_data = train_data.sample(frac = 1)\n",
        "test_data  = test_data.sample(frac = 1)"
      ],
      "execution_count": null,
      "outputs": []
    },
    {
      "cell_type": "code",
      "metadata": {
        "id": "iXoV7U4cM7n7"
      },
      "source": [
        "from sklearn.model_selection import train_test_split\n",
        "x_train , x_val , y_train , y_val = train_test_split(train_data['0'] , train_data['label'] , test_size = 0.2 , random_state=42 , stratify=train_data['label'])"
      ],
      "execution_count": null,
      "outputs": []
    },
    {
      "cell_type": "code",
      "metadata": {
        "colab": {
          "base_uri": "https://localhost:8080/",
          "height": 191
        },
        "id": "C23eaAIxNYfz",
        "outputId": "ff1a483f-1dc9-4ae3-9289-19f2a68fdcf6"
      },
      "source": [
        "val_data = pd.DataFrame()\n",
        "val_data['0']=x_val\n",
        "val_data['label']=y_val\n",
        "val_data.reset_index(inplace=True,drop=True)\n",
        "val_data.head()"
      ],
      "execution_count": null,
      "outputs": [
        {
          "output_type": "execute_result",
          "data": {
            "text/html": [
              "<div>\n",
              "<style scoped>\n",
              "    .dataframe tbody tr th:only-of-type {\n",
              "        vertical-align: middle;\n",
              "    }\n",
              "\n",
              "    .dataframe tbody tr th {\n",
              "        vertical-align: top;\n",
              "    }\n",
              "\n",
              "    .dataframe thead th {\n",
              "        text-align: right;\n",
              "    }\n",
              "</style>\n",
              "<table border=\"1\" class=\"dataframe\">\n",
              "  <thead>\n",
              "    <tr style=\"text-align: right;\">\n",
              "      <th></th>\n",
              "      <th>0</th>\n",
              "      <th>label</th>\n",
              "    </tr>\n",
              "  </thead>\n",
              "  <tbody>\n",
              "    <tr>\n",
              "      <th>0</th>\n",
              "      <td>MURA-v1.1/train/XR_SHOULDER/patient02266/study...</td>\n",
              "      <td>0</td>\n",
              "    </tr>\n",
              "    <tr>\n",
              "      <th>1</th>\n",
              "      <td>MURA-v1.1/train/XR_SHOULDER/patient02124/study...</td>\n",
              "      <td>0</td>\n",
              "    </tr>\n",
              "    <tr>\n",
              "      <th>2</th>\n",
              "      <td>MURA-v1.1/train/XR_SHOULDER/patient00688/study...</td>\n",
              "      <td>1</td>\n",
              "    </tr>\n",
              "    <tr>\n",
              "      <th>3</th>\n",
              "      <td>MURA-v1.1/train/XR_FOREARM/patient03532/study1...</td>\n",
              "      <td>0</td>\n",
              "    </tr>\n",
              "    <tr>\n",
              "      <th>4</th>\n",
              "      <td>MURA-v1.1/train/XR_HUMERUS/patient00077/study1...</td>\n",
              "      <td>0</td>\n",
              "    </tr>\n",
              "  </tbody>\n",
              "</table>\n",
              "</div>"
            ],
            "text/plain": [
              "                                                   0 label\n",
              "0  MURA-v1.1/train/XR_SHOULDER/patient02266/study...     0\n",
              "1  MURA-v1.1/train/XR_SHOULDER/patient02124/study...     0\n",
              "2  MURA-v1.1/train/XR_SHOULDER/patient00688/study...     1\n",
              "3  MURA-v1.1/train/XR_FOREARM/patient03532/study1...     0\n",
              "4  MURA-v1.1/train/XR_HUMERUS/patient00077/study1...     0"
            ]
          },
          "metadata": {
            "tags": []
          },
          "execution_count": 10
        }
      ]
    },
    {
      "cell_type": "code",
      "metadata": {
        "colab": {
          "base_uri": "https://localhost:8080/"
        },
        "id": "SdvxlrSkCP7l",
        "outputId": "e2365e76-2c87-4d0d-b156-4cfbe295844b"
      },
      "source": [
        "print(len(train_data) , len(test_data) , len(val_data))"
      ],
      "execution_count": null,
      "outputs": [
        {
          "output_type": "stream",
          "text": [
            "11476 1152 2296\n"
          ],
          "name": "stdout"
        }
      ]
    },
    {
      "cell_type": "code",
      "metadata": {
        "id": "b0aZ3zClb1OC"
      },
      "source": [
        "# class data_generator():\n",
        "#   def __init__(self):\n",
        "#     self.labels=[]\n",
        "#   def generator(self,samples,root_dir, batch_size,shuffle_data=True,resize=320):\n",
        "#       \"\"\"\n",
        "#       Yields the next training batch.\n",
        "#       Suppose `samples` is an array [[image1_filename,label1], [image2_filename,label2],...].\n",
        "#       \"\"\"\n",
        "#       num_samples = len(samples)\n",
        "#       count =0\n",
        "#       while True: # Loop forever so the generator never terminates\n",
        "#           samples = (samples)\n",
        "#           count=0\n",
        "#           offset = 0\n",
        "#           # Get index to start each batch: [0, batch_size, 2*batch_size, ..., max multiple of batch_size <= num_samples]\n",
        "#           while offset<num_samples:\n",
        "#               # Get the samples you'll use in this batch\n",
        "#               batch_samples = samples[offset:offset+batch_size]\n",
        "#               # Initialise X_train and y_train arrays for this batch\n",
        "#               count+=1\n",
        "#               if count>1:\n",
        "#                 offset+=batch_size\n",
        "#               print('--'+str(offset)+'--')\n",
        "              \n",
        "#               X_train = []\n",
        "#               y_train = []\n",
        "\n",
        "#               # For each example\n",
        "#               for batch_sample in batch_samples:\n",
        "#                   # Load image (X) and label (y)\n",
        "#                   img_name = batch_sample[0]\n",
        "#                   label = batch_sample[1]\n",
        "#                   img =  cv2.imread(os.path.join(root_dir,img_name))\n",
        "                  \n",
        "#                   # apply any kind of preprocessing\n",
        "#                   img = cv2.resize(img,(resize,resize))\n",
        "#                   # Add example to arrays\n",
        "#                   X_train.append(img)\n",
        "#                   y_train.append(label)\n",
        "\n",
        "#               # Make sure they're numpy arrays (as opposed to lists)\n",
        "#               X_train = np.asarray(X_train).astype('float32')\n",
        "#               mean = np.mean(X_train)\n",
        "#               std = np.std(X_train)\n",
        "#               X_train = (X_train - mean) / std\n",
        "#               y_train = np.array(y_train)\n",
        "#               self.labels.extend(y_train)\n",
        "#               # The generator-y part: yield the next training batch            \n",
        "#               yield X_train, y_train"
      ],
      "execution_count": null,
      "outputs": []
    },
    {
      "cell_type": "code",
      "metadata": {
        "colab": {
          "base_uri": "https://localhost:8080/"
        },
        "id": "-K93pcSshNlD",
        "outputId": "ed34d84f-ff0a-496a-ca2b-817c7ec134a4"
      },
      "source": [
        "# gen = data_generator()\n",
        "# train_datagen = gen.generator(train_data.values,ROOT_DIR,batch_size=20)\n",
        "# x,y = next(train_datagen)\n",
        "# x,y = next(train_datagen)\n",
        "# # x,y = next(train_datagen)\n",
        "# # x,y = next(train_datagen)\n",
        "# # x,y = next(train_datagen)\n",
        "# # x,y = next(train_datagen)\n",
        "# print ('x_shape: ', x.shape)\n",
        "# print ('labels: ', y)\n",
        "# print(len(gen.labels))"
      ],
      "execution_count": null,
      "outputs": [
        {
          "output_type": "stream",
          "text": [
            "==0==\n",
            "==0==\n",
            "x_shape:  (20, 320, 320, 3)\n",
            "labels:  [0 1 1 1 1 1 1 1 0 1 0 1 0 1 0 0 0 1 1 0]\n",
            "40\n"
          ],
          "name": "stdout"
        }
      ]
    },
    {
      "cell_type": "code",
      "metadata": {
        "colab": {
          "base_uri": "https://localhost:8080/"
        },
        "id": "ijwpdue5ln_z",
        "outputId": "3825ac0e-1f36-4430-cff4-b769c83ee3d7"
      },
      "source": [
        "test_data['0']"
      ],
      "execution_count": null,
      "outputs": [
        {
          "output_type": "execute_result",
          "data": {
            "text/plain": [
              "1854    MURA-v1.1/valid/XR_SHOULDER/patient11300/study...\n",
              "1954    MURA-v1.1/valid/XR_SHOULDER/patient11292/study...\n",
              "1979    MURA-v1.1/valid/XR_SHOULDER/patient11188/study...\n",
              "2054    MURA-v1.1/valid/XR_SHOULDER/patient11662/study...\n",
              "2230    MURA-v1.1/valid/XR_SHOULDER/patient11399/study...\n",
              "                              ...                        \n",
              "1940    MURA-v1.1/valid/XR_SHOULDER/patient11290/study...\n",
              "1759    MURA-v1.1/valid/XR_SHOULDER/patient11707/study...\n",
              "2008    MURA-v1.1/valid/XR_SHOULDER/patient11746/study...\n",
              "1804    MURA-v1.1/valid/XR_SHOULDER/patient11380/study...\n",
              "1895    MURA-v1.1/valid/XR_SHOULDER/patient11727/study...\n",
              "Name: 0, Length: 563, dtype: object"
            ]
          },
          "metadata": {
            "tags": []
          },
          "execution_count": 7
        }
      ]
    },
    {
      "cell_type": "code",
      "metadata": {
        "id": "U0WbO1fbFSZc"
      },
      "source": [
        "def preproc(image):\n",
        "  image = image/255.\n",
        "  image[:,:,0] = (image[:,:,0]-0.485)/0.229\n",
        "  image[:,:,1] = (image[:,:,1]-0.456)/0.224\n",
        "  image[:,:,2] = (image[:,:,2]-0.406)/0.225\n",
        "  return image"
      ],
      "execution_count": null,
      "outputs": []
    },
    {
      "cell_type": "code",
      "metadata": {
        "colab": {
          "base_uri": "https://localhost:8080/",
          "height": 301
        },
        "id": "jbS0lCt2GORo",
        "outputId": "b006435a-d479-4878-b9d9-0d3f6adee981"
      },
      "source": [
        "image = cv2.imread('/content/drive/MyDrive/Broner/MURA-v1.1/train/XR_SHOULDER/patient00002/study1_positive/image2.png')\n",
        "plt.imshow(image)\n",
        "image = preproc(image)\n",
        "plt.imshow(image,cmap='gray')"
      ],
      "execution_count": null,
      "outputs": [
        {
          "output_type": "stream",
          "text": [
            "Clipping input data to the valid range for imshow with RGB data ([0..1] for floats or [0..255] for integers).\n"
          ],
          "name": "stderr"
        },
        {
          "output_type": "execute_result",
          "data": {
            "text/plain": [
              "<matplotlib.image.AxesImage at 0x7f6c4d521890>"
            ]
          },
          "metadata": {
            "tags": []
          },
          "execution_count": 16
        },
        {
          "output_type": "display_data",
          "data": {
            "image/png": "[encoded data removed]",
            "text/plain": [
              "<Figure size 432x288 with 1 Axes>"
            ]
          },
          "metadata": {
            "tags": [],
            "needs_background": "light"
          }
        }
      ]
    },
    {
      "cell_type": "code",
      "metadata": {
        "id": "vIp5S9I_kBnO"
      },
      "source": [
        "train_datagen = keras.preprocessing.image.ImageDataGenerator(\n",
        "    preprocessing_function = preproc,\n",
        "    rotation_range=20,\n",
        "    horizontal_flip=True,\n",
        "    zoom_range = 0.15,\n",
        "    validation_split = 0.1)\n",
        "\n",
        "test_datagen = keras.preprocessing.image.ImageDataGenerator(\n",
        "    preprocessing_function = preproc)"
      ],
      "execution_count": null,
      "outputs": []
    },
    {
      "cell_type": "code",
      "metadata": {
        "id": "flAm79nQkK2H",
        "colab": {
          "base_uri": "https://localhost:8080/"
        },
        "outputId": "f8a19c70-7d8a-446e-b35c-09537ae689a8"
      },
      "source": [
        "train_generator=train_datagen.flow_from_dataframe(\n",
        "dataframe=train_data,\n",
        "directory=ROOT_DIR, \n",
        "x_col=\"0\",\n",
        "y_col=\"label\",\n",
        "subset=\"training\",\n",
        "batch_size=256,\n",
        "seed=42,\n",
        "shuffle=True,\n",
        "class_mode=\"binary\",\n",
        "target_size=(320,320))\n",
        " \n",
        "valid_generator=train_datagen.flow_from_dataframe(\n",
        "dataframe=train_data,\n",
        "directory=ROOT_DIR,\n",
        "x_col=\"0\",\n",
        "y_col=\"label\",\n",
        "subset=\"validation\",\n",
        "batch_size=256,\n",
        "seed=42,\n",
        "shuffle=True,\n",
        "class_mode=\"binary\",\n",
        "target_size=(320,320))\n",
        " \n",
        " \n",
        "# test_generator=test_datagen.flow_from_dataframe(\n",
        "# dataframe=test_data,\n",
        "# directory=ROOT_DIR,\n",
        "# x_col=\"0\",\n",
        "# y_col='label',\n",
        "# batch_size=128,\n",
        "# seed=42,\n",
        "# shuffle=False,\n",
        "# class_mode=\"binary\",\n",
        "# target_size=(320,320))"
      ],
      "execution_count": null,
      "outputs": [
        {
          "output_type": "stream",
          "text": [
            "Found 10329 validated image filenames belonging to 2 classes.\n",
            "Found 1147 validated image filenames belonging to 2 classes.\n"
          ],
          "name": "stdout"
        }
      ]
    },
    {
      "cell_type": "code",
      "metadata": {
        "id": "V6IRSQB5b57Q"
      },
      "source": [
        "# def preprocessing(img,label):\n",
        "#     mean = np.mean(Images)\n",
        "#     std = np.std(Images)\n",
        "#     Images = (Images - mean) / std\n",
        "#   return Images\n",
        "#     return img,label"
      ],
      "execution_count": null,
      "outputs": []
    },
    {
      "cell_type": "code",
      "metadata": {
        "id": "sKOeVXQCKw_y"
      },
      "source": [
        "# import os\n",
        "# import numpy as np\n",
        "# import cv2\n",
        "# import random\n",
        "# import keras.backend as K\n",
        "\n",
        "\n",
        "# def load_image(root , images_path, size = 320):\n",
        "#   Images = []\n",
        "#   for path in images_path:\n",
        "#     try:\n",
        "#       p = os.path.join(root,path)\n",
        "#       image = cv2.imread(p)\n",
        "#       image = cv2.resize(image,(size,size))\n",
        "#       Images.append(image)\n",
        "\n",
        "#     except Exception as e:\n",
        "#       print(str(e))\n",
        "\n",
        "#   Images = np.asarray(Images).astype('float32')\n",
        "\n",
        "#   mean = np.mean(Images)\n",
        "#   std = np.std(Images)\n",
        "#   Images = (Images - mean) / std\n",
        "#   return Images\n"
      ],
      "execution_count": null,
      "outputs": []
    },
    {
      "cell_type": "code",
      "metadata": {
        "id": "xx9v8AHPPbhw"
      },
      "source": [
        "# train_images = load_image('/content/drive/MyDrive/Broner' , train_path , 320)\n",
        "# val_images   = load_image('/content/drive/MyDrive/Broner' , validation_path , 320)"
      ],
      "execution_count": null,
      "outputs": []
    },
    {
      "cell_type": "code",
      "metadata": {
        "id": "7TUk_aI9SS0g"
      },
      "source": [
        "# plt.figure(figsize=(5,5))\n",
        "# plt.imshow(train_images[0])\n",
        "# plt.imshow(val_images[0])"
      ],
      "execution_count": null,
      "outputs": []
    },
    {
      "cell_type": "code",
      "metadata": {
        "id": "4dW9enwEUPSS"
      },
      "source": [
        "# x_train , y_train = train_images , train_data.iloc[:20 , 1]\n",
        "# train_datagen = keras.preprocessing.image.ImageDataGenerator(\n",
        "#     featurewise_center=True,\n",
        "#     featurewise_std_normalization=True,\n",
        "#     rotation_range=20,\n",
        "#     width_shift_range=0.2,\n",
        "#     height_shift_range=0.2,\n",
        "#     horizontal_flip=True)\n",
        "# # compute quantities required for featurewise normalization\n",
        "# # (std, mean, and principal components if ZCA whitening is applied)\n",
        "# train_datagen.fit(x_train)\n",
        "# # fits the model on batches with real-time data augmentation:\n",
        "\n",
        "# x_val , y_val = val_images , train_data.iloc[20:25 , 1]\n",
        "# val_datagen = keras.preprocessing.image.ImageDataGenerator(\n",
        "#     featurewise_center=True,\n",
        "#     featurewise_std_normalization=True,\n",
        "#     )\n",
        "# # compute quantities required for featurewise normalization\n",
        "# # (std, mean, and principal components if ZCA whitening is applied)\n",
        "# train_datagen.fit(x_train)\n",
        "# # fits the model on batches with real-time data augmentation:\n",
        "# val_datagen.fit(x_val)\n"
      ],
      "execution_count": null,
      "outputs": []
    },
    {
      "cell_type": "markdown",
      "metadata": {
        "id": "4c-Nzb4QwpoI"
      },
      "source": [
        "Custom CallBack for saving 5 best models based on validation accuracy"
      ]
    },
    {
      "cell_type": "code",
      "metadata": {
        "id": "pm534N3bu59a"
      },
      "source": [
        "class CustomCallback(keras.callbacks.Callback):\n",
        "    def on_train_begin(self, logs=None):\n",
        "        #self.models = []\n",
        "        self.best_epochs = []\n",
        "        self.min_auc = np.inf\n",
        "        self.best_auc=[]\n",
        "        self.root = '/content/drive/MyDrive/Broner/InceptionResnet'\n",
        "        keys = list(logs.keys())\n",
        "        print(\"Starting training; got log keys: {}\".format(keys))\n",
        "\n",
        "    def on_train_end(self, logs=None):\n",
        "        keys = list(logs.keys())\n",
        "        print(\"Stop training; got log keys: {}\".format(keys))\n",
        "\n",
        "\n",
        "    def on_epoch_end(self, epoch, logs=None):\n",
        "        keys = list(logs.keys())\n",
        "        print(\"End epoch {} of training; got log keys: {}\".format(epoch, keys))\n",
        "        if len(self.best_epochs)<5:\n",
        "          # self.models.append(self.model.get_weights())\n",
        "          self.best_epochs.append(epoch)\n",
        "          self.best_auc.append(logs['val_accuracy'])\n",
        "          id = len(self.best_auc)-1\n",
        "          self.min_auc = min(self.min_auc , logs['val_accuracy'])\n",
        "          filepath = os.path.join(self.root , str(id)+'.hdf5')\n",
        "          self.model.save(filepath , overwrite=True)\n",
        "        else:\n",
        "          if logs['val_accuracy']>self.min_auc:\n",
        "            idx = self.best_auc.index(self.min_auc)\n",
        "            self.best_auc[idx] = logs['val_accuracy']\n",
        "            self.best_epochs[idx]=epoch\n",
        "            self.min_auc = min(self.best_auc)\n",
        "            filepath = os.path.join(self.root , str(idx)+'.hdf5')\n",
        "            self.model.save(filepath , overwrite=True)\n",
        "            # self.models[idx] = self.model.get_weights()"
      ],
      "execution_count": null,
      "outputs": []
    },
    {
      "cell_type": "code",
      "metadata": {
        "id": "mfb_pXfrJISp"
      },
      "source": [
        "from keras.layers.normalization import BatchNormalization\n",
        "from keras.layers import Dropout\n",
        "def make_model(output_bias = None, metrics = None):    \n",
        "    if output_bias is not None:\n",
        "        output_bias = tf.keras.initializers.Constant(output_bias)\n",
        "        \n",
        "    base_model = keras.applications.InceptionResNetV2(input_shape=(*[320,320], 3),\n",
        "                                                include_top=False,\n",
        "                                                weights='imagenet')\n",
        "    \n",
        "    base_model.trainable = False\n",
        "    \n",
        "    model = tf.keras.Sequential([\n",
        "        base_model,\n",
        "        keras.layers.GlobalAveragePooling2D(),\n",
        "        keras.layers.Dense(512),\n",
        "        BatchNormalization(),\n",
        "        keras.layers.Activation('relu'),\n",
        "        Dropout(0.5),\n",
        "        keras.layers.Dense(256),\n",
        "        BatchNormalization(),\n",
        "        keras.layers.Activation('relu'),\n",
        "        Dropout(0.4),\n",
        "        keras.layers.Dense(128),\n",
        "        BatchNormalization(),\n",
        "        keras.layers.Activation('relu'),\n",
        "        Dropout(0.3),\n",
        "        keras.layers.Dense(64),\n",
        "        BatchNormalization(),\n",
        "        keras.layers.Activation('relu'),\n",
        "        keras.layers.Dense(1, activation='sigmoid',\n",
        "                              bias_initializer=output_bias)\n",
        "    ])\n",
        "    \n",
        "    model.compile(optimizer='adam',\n",
        "                  loss='binary_crossentropy',\n",
        "                  metrics=metrics)\n",
        "    \n",
        "    return model"
      ],
      "execution_count": null,
      "outputs": []
    },
    {
      "cell_type": "code",
      "metadata": {
        "colab": {
          "base_uri": "https://localhost:8080/"
        },
        "id": "niEODFOBlj_h",
        "outputId": "7e9f2d6e-b6f3-4d3b-840c-7257b334995d"
      },
      "source": [
        "total_img = train_data['label'].size\n",
        "positive = len(train_data[train_data['label']=='1'])\n",
        "negative = total_img - positive\n",
        "print('Examples:\\n    Total: {}\\n    Positive: {} ({:.2f}% of total)\\n'.format(\n",
        "    total_img, positive, 100 * positive / total_img))\n",
        "\n",
        "initial_bias = np.log([positive/negative])\n",
        "initial_bias"
      ],
      "execution_count": null,
      "outputs": [
        {
          "output_type": "stream",
          "text": [
            "Examples:\n",
            "    Total: 11476\n",
            "    Positive: 5428 (47.30% of total)\n",
            "\n"
          ],
          "name": "stdout"
        },
        {
          "output_type": "execute_result",
          "data": {
            "text/plain": [
              "array([-0.1081569])"
            ]
          },
          "metadata": {
            "tags": []
          },
          "execution_count": 34
        }
      ]
    },
    {
      "cell_type": "code",
      "metadata": {
        "id": "QwniidygLyiB"
      },
      "source": [
        "# BATCH_SIZE = 20\n",
        "# STEPS_PER_EPOCH = len(train_data) // BATCH_SIZE\n",
        "# VALID_STEPS = len(val_data) // BATCH_SIZE"
      ],
      "execution_count": null,
      "outputs": []
    },
    {
      "cell_type": "code",
      "metadata": {
        "id": "rVl1lVAeLV7D"
      },
      "source": [
        "def exponential_decay(lr0):\n",
        "    def exponential_decay_fn(epoch):\n",
        "      if epoch>5 and epoch%3==0:\n",
        "        return lr0 * tf.math.exp(-0.1)\n",
        "      else:\n",
        "        return lr0\n",
        "    return exponential_decay_fn\n",
        "\n",
        "exponential_decay_fn = exponential_decay(0.01)\n",
        "lr_scheduler = tf.keras.callbacks.LearningRateScheduler(exponential_decay_fn)\n",
        "\n",
        "# checkpoint_cb = tf.keras.callbacks.ModelCheckpoint(\"/content/drive/MyDrive/Broner/bone.h5\",\n",
        "#                                                     save_best_only=True)\n",
        "early_stopping_cb = tf.keras.callbacks.EarlyStopping(monitor=\"val_loss\",patience=5,\n",
        "                                                     restore_best_weights=True)"
      ],
      "execution_count": null,
      "outputs": []
    },
    {
      "cell_type": "code",
      "metadata": {
        "colab": {
          "base_uri": "https://localhost:8080/"
        },
        "id": "1xjA9KrYMqKB",
        "outputId": "9699deef-e207-4db4-c307-b2b73d86f28e"
      },
      "source": [
        "model = make_model(output_bias = initial_bias, metrics=[tf.keras.metrics.AUC(name='auc'),'accuracy'])\n",
        "model.summary()"
      ],
      "execution_count": null,
      "outputs": [
        {
          "output_type": "stream",
          "text": [
            "Downloading data from https://storage.googleapis.com/tensorflow/keras-applications/inception_resnet_v2/inception_resnet_v2_weights_tf_dim_ordering_tf_kernels_notop.h5\n",
            "219062272/219055592 [==============================] - 2s 0us/step\n",
            "Model: \"sequential\"\n",
            "_________________________________________________________________\n",
            "Layer (type)                 Output Shape              Param #   \n",
            "=================================================================\n",
            "inception_resnet_v2 (Functio (None, 8, 8, 1536)        54336736  \n",
            "_________________________________________________________________\n",
            "global_average_pooling2d (Gl (None, 1536)              0         \n",
            "_________________________________________________________________\n",
            "dense (Dense)                (None, 512)               786944    \n",
            "_________________________________________________________________\n",
            "batch_normalization_203 (Bat (None, 512)               2048      \n",
            "_________________________________________________________________\n",
            "activation_203 (Activation)  (None, 512)               0         \n",
            "_________________________________________________________________\n",
            "dropout (Dropout)            (None, 512)               0         \n",
            "_________________________________________________________________\n",
            "dense_1 (Dense)              (None, 256)               131328    \n",
            "_________________________________________________________________\n",
            "batch_normalization_204 (Bat (None, 256)               1024      \n",
            "_________________________________________________________________\n",
            "activation_204 (Activation)  (None, 256)               0         \n",
            "_________________________________________________________________\n",
            "dropout_1 (Dropout)          (None, 256)               0         \n",
            "_________________________________________________________________\n",
            "dense_2 (Dense)              (None, 128)               32896     \n",
            "_________________________________________________________________\n",
            "batch_normalization_205 (Bat (None, 128)               512       \n",
            "_________________________________________________________________\n",
            "activation_205 (Activation)  (None, 128)               0         \n",
            "_________________________________________________________________\n",
            "dropout_2 (Dropout)          (None, 128)               0         \n",
            "_________________________________________________________________\n",
            "dense_3 (Dense)              (None, 64)                8256      \n",
            "_________________________________________________________________\n",
            "batch_normalization_206 (Bat (None, 64)                256       \n",
            "_________________________________________________________________\n",
            "activation_206 (Activation)  (None, 64)                0         \n",
            "_________________________________________________________________\n",
            "dense_4 (Dense)              (None, 1)                 65        \n",
            "=================================================================\n",
            "Total params: 55,300,065\n",
            "Trainable params: 961,409\n",
            "Non-trainable params: 54,338,656\n",
            "_________________________________________________________________\n"
          ],
          "name": "stdout"
        }
      ]
    },
    {
      "cell_type": "code",
      "metadata": {
        "id": "xs5iQRWXLfZr"
      },
      "source": [
        "# history = model.fit(train_datagen.flow(x_train, y_train,batch_size=2) ,\n",
        "#                                 steps_per_epoch=STEPS_PER_EPOCH,\n",
        "#                                 validation_data = val_datagen.flow(x_val , y_val , batch_size = 2),\n",
        "#                                 validation_steps=VALID_STEPS,\n",
        "#                                 callbacks=[checkpoint_cb, early_stopping_cb, lr_scheduler],\n",
        "#                                 epochs = 10)"
      ],
      "execution_count": null,
      "outputs": []
    },
    {
      "cell_type": "code",
      "metadata": {
        "id": "D_24KE9enjAF"
      },
      "source": [
        "# traingen             = data_generator()\n",
        "# train_generator      = traingen.generator(train_data.values,ROOT_DIR, batch_size=20)\n",
        "# valgen               = data_generator()\n",
        "# validation_generator = valgen.generator(val_data.values,ROOT_DIR,shuffle_data= False, batch_size=5)\n",
        "# testgen              = data_generator()\n",
        "# test_generator       = testgen.generator(test_data.values,ROOT_DIR, shuffle_data=False, batch_size=5)"
      ],
      "execution_count": null,
      "outputs": []
    },
    {
      "cell_type": "code",
      "metadata": {
        "colab": {
          "base_uri": "https://localhost:8080/"
        },
        "id": "ajz9rFdvomFA",
        "outputId": "153ec22c-344c-4ff7-fceb-30c092be1218"
      },
      "source": [
        "# custom = CustomCallback()\n",
        "# history = model.fit_generator(train_generator ,\n",
        "#                     steps_per_epoch=STEPS_PER_EPOCH,\n",
        "#                     validation_data = validation_generator,\n",
        "#                     validation_steps=VALID_STEPS,\n",
        "#                     callbacks=[early_stopping_cb, lr_scheduler , custom],\n",
        "#                     epochs = 10)\n",
        "custom = CustomCallback()\n",
        "STEP_SIZE_TRAIN=train_generator.n//train_generator.batch_size\n",
        "STEP_SIZE_VALID=valid_generator.n//valid_generator.batch_size\n",
        "# STEP_SIZE_TEST=test_generator.n//test_generator.batch_size\n",
        "history = model.fit_generator(generator=train_generator,\n",
        "                    steps_per_epoch=STEP_SIZE_TRAIN,\n",
        "                    validation_data=valid_generator,\n",
        "                    validation_steps=STEP_SIZE_VALID,\n",
        "                    callbacks=[early_stopping_cb, lr_scheduler , custom],\n",
        "                    epochs=20)"
      ],
      "execution_count": null,
      "outputs": [
        {
          "output_type": "stream",
          "text": [
            "/usr/local/lib/python3.7/dist-packages/tensorflow/python/keras/engine/training.py:1844: UserWarning: `Model.fit_generator` is deprecated and will be removed in a future version. Please use `Model.fit`, which supports generators.\n",
            "  warnings.warn('`Model.fit_generator` is deprecated and '\n"
          ],
          "name": "stderr"
        },
        {
          "output_type": "stream",
          "text": [
            "Starting training; got log keys: []\n",
            "Epoch 1/20\n",
            "40/40 [==============================] - 2641s 66s/step - loss: 0.7292 - auc: 0.5916 - accuracy: 0.5735 - val_loss: 1.3296 - val_auc: 0.6914 - val_accuracy: 0.6270\n",
            "End epoch 0 of training; got log keys: ['loss', 'auc', 'accuracy', 'val_loss', 'val_auc', 'val_accuracy', 'lr']\n",
            "Epoch 2/20\n",
            "40/40 [==============================] - 309s 8s/step - loss: 0.6088 - auc: 0.7277 - accuracy: 0.6736 - val_loss: 0.8228 - val_auc: 0.7406 - val_accuracy: 0.6436\n",
            "End epoch 1 of training; got log keys: ['loss', 'auc', 'accuracy', 'val_loss', 'val_auc', 'val_accuracy', 'lr']\n",
            "Epoch 3/20\n",
            "40/40 [==============================] - 312s 8s/step - loss: 0.5648 - auc: 0.7779 - accuracy: 0.7148 - val_loss: 0.5652 - val_auc: 0.7907 - val_accuracy: 0.7070\n",
            "End epoch 2 of training; got log keys: ['loss', 'auc', 'accuracy', 'val_loss', 'val_auc', 'val_accuracy', 'lr']\n",
            "Epoch 4/20\n",
            "40/40 [==============================] - 313s 8s/step - loss: 0.5646 - auc: 0.7784 - accuracy: 0.7162 - val_loss: 0.5822 - val_auc: 0.7904 - val_accuracy: 0.7188\n",
            "End epoch 3 of training; got log keys: ['loss', 'auc', 'accuracy', 'val_loss', 'val_auc', 'val_accuracy', 'lr']\n",
            "Epoch 5/20\n",
            "40/40 [==============================] - 313s 8s/step - loss: 0.5356 - auc: 0.8046 - accuracy: 0.7367 - val_loss: 0.5741 - val_auc: 0.7883 - val_accuracy: 0.7119\n",
            "End epoch 4 of training; got log keys: ['loss', 'auc', 'accuracy', 'val_loss', 'val_auc', 'val_accuracy', 'lr']\n",
            "Epoch 6/20\n",
            "40/40 [==============================] - 310s 8s/step - loss: 0.5511 - auc: 0.7901 - accuracy: 0.7279 - val_loss: 0.5863 - val_auc: 0.7930 - val_accuracy: 0.7295\n",
            "End epoch 5 of training; got log keys: ['loss', 'auc', 'accuracy', 'val_loss', 'val_auc', 'val_accuracy', 'lr']\n",
            "Epoch 7/20\n",
            "40/40 [==============================] - 307s 8s/step - loss: 0.5342 - auc: 0.8066 - accuracy: 0.7360 - val_loss: 0.5977 - val_auc: 0.7961 - val_accuracy: 0.7080\n",
            "End epoch 6 of training; got log keys: ['loss', 'auc', 'accuracy', 'val_loss', 'val_auc', 'val_accuracy', 'lr']\n",
            "Epoch 8/20\n",
            "40/40 [==============================] - 308s 8s/step - loss: 0.5243 - auc: 0.8142 - accuracy: 0.7481 - val_loss: 0.5503 - val_auc: 0.8037 - val_accuracy: 0.7344\n",
            "End epoch 7 of training; got log keys: ['loss', 'auc', 'accuracy', 'val_loss', 'val_auc', 'val_accuracy', 'lr']\n",
            "Epoch 9/20\n",
            "40/40 [==============================] - 311s 8s/step - loss: 0.5261 - auc: 0.8132 - accuracy: 0.7376 - val_loss: 0.5498 - val_auc: 0.8044 - val_accuracy: 0.7256\n",
            "End epoch 8 of training; got log keys: ['loss', 'auc', 'accuracy', 'val_loss', 'val_auc', 'val_accuracy', 'lr']\n",
            "Epoch 10/20\n",
            "40/40 [==============================] - 310s 8s/step - loss: 0.5172 - auc: 0.8205 - accuracy: 0.7586 - val_loss: 0.5297 - val_auc: 0.8117 - val_accuracy: 0.7471\n",
            "End epoch 9 of training; got log keys: ['loss', 'auc', 'accuracy', 'val_loss', 'val_auc', 'val_accuracy', 'lr']\n",
            "Epoch 11/20\n",
            "40/40 [==============================] - 308s 8s/step - loss: 0.5114 - auc: 0.8252 - accuracy: 0.7565 - val_loss: 0.8081 - val_auc: 0.7987 - val_accuracy: 0.6621\n",
            "End epoch 10 of training; got log keys: ['loss', 'auc', 'accuracy', 'val_loss', 'val_auc', 'val_accuracy', 'lr']\n",
            "Epoch 12/20\n",
            "40/40 [==============================] - 308s 8s/step - loss: 0.5091 - auc: 0.8272 - accuracy: 0.7551 - val_loss: 0.5645 - val_auc: 0.8142 - val_accuracy: 0.7383\n",
            "End epoch 11 of training; got log keys: ['loss', 'auc', 'accuracy', 'val_loss', 'val_auc', 'val_accuracy', 'lr']\n",
            "Epoch 13/20\n",
            "40/40 [==============================] - 309s 8s/step - loss: 0.4966 - auc: 0.8376 - accuracy: 0.7652 - val_loss: 0.5877 - val_auc: 0.8127 - val_accuracy: 0.7139\n",
            "End epoch 12 of training; got log keys: ['loss', 'auc', 'accuracy', 'val_loss', 'val_auc', 'val_accuracy', 'lr']\n",
            "Epoch 14/20\n",
            "40/40 [==============================] - 309s 8s/step - loss: 0.5008 - auc: 0.8337 - accuracy: 0.7617 - val_loss: 0.5471 - val_auc: 0.8183 - val_accuracy: 0.7393\n",
            "End epoch 13 of training; got log keys: ['loss', 'auc', 'accuracy', 'val_loss', 'val_auc', 'val_accuracy', 'lr']\n",
            "Epoch 15/20\n",
            "40/40 [==============================] - 314s 8s/step - loss: 0.5015 - auc: 0.8326 - accuracy: 0.7612 - val_loss: 0.5118 - val_auc: 0.8251 - val_accuracy: 0.7627\n",
            "End epoch 14 of training; got log keys: ['loss', 'auc', 'accuracy', 'val_loss', 'val_auc', 'val_accuracy', 'lr']\n",
            "Epoch 16/20\n",
            "40/40 [==============================] - 313s 8s/step - loss: 0.5007 - auc: 0.8332 - accuracy: 0.7613 - val_loss: 0.5902 - val_auc: 0.8212 - val_accuracy: 0.7246\n",
            "End epoch 15 of training; got log keys: ['loss', 'auc', 'accuracy', 'val_loss', 'val_auc', 'val_accuracy', 'lr']\n",
            "Epoch 17/20\n",
            "40/40 [==============================] - 308s 8s/step - loss: 0.4934 - auc: 0.8392 - accuracy: 0.7668 - val_loss: 0.5067 - val_auc: 0.8262 - val_accuracy: 0.7705\n",
            "End epoch 16 of training; got log keys: ['loss', 'auc', 'accuracy', 'val_loss', 'val_auc', 'val_accuracy', 'lr']\n",
            "Epoch 18/20\n",
            "40/40 [==============================] - 307s 8s/step - loss: 0.4846 - auc: 0.8449 - accuracy: 0.7695 - val_loss: 0.5305 - val_auc: 0.8309 - val_accuracy: 0.7490\n",
            "End epoch 17 of training; got log keys: ['loss', 'auc', 'accuracy', 'val_loss', 'val_auc', 'val_accuracy', 'lr']\n",
            "Epoch 19/20\n",
            "40/40 [==============================] - 308s 8s/step - loss: 0.4840 - auc: 0.8444 - accuracy: 0.7756 - val_loss: 0.5386 - val_auc: 0.8227 - val_accuracy: 0.7402\n",
            "End epoch 18 of training; got log keys: ['loss', 'auc', 'accuracy', 'val_loss', 'val_auc', 'val_accuracy', 'lr']\n",
            "Epoch 20/20\n",
            "40/40 [==============================] - ETA: 0s - loss: 0.4885 - auc: 0.8431 - accuracy: 0.7666End epoch 19 of training; got log keys: ['loss', 'auc', 'accuracy', 'val_loss', 'val_auc', 'val_accuracy', 'lr']\n",
            "Stop training; got log keys: ['loss', 'auc', 'accuracy', 'val_loss', 'val_auc', 'val_accuracy']\n"
          ],
          "name": "stdout"
        }
      ]
    },
    {
      "cell_type": "code",
      "metadata": {
        "colab": {
          "base_uri": "https://localhost:8080/",
          "height": 282
        },
        "id": "dF5YhlWAUQz3",
        "outputId": "1d2782af-4ef9-41de-afa4-cd8fd4df6db4"
      },
      "source": [
        "plt.plot(history.history['loss'])"
      ],
      "execution_count": null,
      "outputs": [
        {
          "output_type": "execute_result",
          "data": {
            "text/plain": [
              "[<matplotlib.lines.Line2D at 0x7f5dda419c50>]"
            ]
          },
          "metadata": {
            "tags": []
          },
          "execution_count": 150
        },
        {
          "output_type": "display_data",
          "data": {
            "image/png": "[encoded data removed]",
            "text/plain": [
              "<Figure size 432x288 with 1 Axes>"
            ]
          },
          "metadata": {
            "tags": []
          }
        }
      ]
    },
    {
      "cell_type": "code",
      "metadata": {
        "id": "gUGyITht5xBv",
        "colab": {
          "base_uri": "https://localhost:8080/"
        },
        "outputId": "f50f2b16-29d5-4e35-81e7-ce3d6d76ad9a"
      },
      "source": [
        "print(custom.best_epochs)\n",
        "print(custom.best_auc)"
      ],
      "execution_count": null,
      "outputs": [
        {
          "output_type": "stream",
          "text": [
            "[14, 19, 16, 17, 9]\n",
            "[0.7626953125, 0.751953125, 0.7705078125, 0.7490234375, 0.7470703125]\n"
          ],
          "name": "stdout"
        }
      ]
    },
    {
      "cell_type": "code",
      "metadata": {
        "id": "89wRSuVJMOcc"
      },
      "source": [
        "# valid_generator2=test_datagen.flow_from_dataframe(\n",
        "# dataframe=val_data,\n",
        "# directory=ROOT_DIR,\n",
        "# x_col=\"0\",\n",
        "# y_col=\"label\",\n",
        "# batch_size=256,\n",
        "# seed=42,\n",
        "# shuffle=False,\n",
        "# class_mode=\"binary\",\n",
        "# target_size=(320,320))"
      ],
      "execution_count": null,
      "outputs": []
    },
    {
      "cell_type": "code",
      "metadata": {
        "id": "XLcIGm1qO6gT",
        "colab": {
          "base_uri": "https://localhost:8080/",
          "height": 377
        },
        "outputId": "c88bc874-04bb-42db-c11d-912b075d0e0e"
      },
      "source": [
        "val_generator=test_datagen.flow_from_dataframe(\n",
        "dataframe=val_data,\n",
        "directory=ROOT_DIR,\n",
        "x_col=\"0\",\n",
        "y_col='label',\n",
        "batch_size=574,\n",
        "seed=42,\n",
        "shuffle=False,\n",
        "class_mode=\"binary\",\n",
        "target_size=(320,320))\n",
        "\n",
        "STEP_SIZE_VAL=val_generator.n//val_generator.batch_size\n",
        "\n",
        "df_train = pd.DataFrame()\n",
        "dir = '/content/drive/MyDrive/Broner/InceptionResnet'\n",
        "for f in os.listdir(dir):\n",
        "    # make prediction\n",
        "    filepath = os.path.join(dir, f)\n",
        "    print(filepath)\n",
        "    if filepath.endswith('hdf5'):\n",
        "      model= keras.models.load_model(filepath)\n",
        "      yhat = model.predict_generator(val_generator,STEP_SIZE_VAL) \n",
        "      yhat = yhat>=0.5\n",
        "      yhat = np.uint8(yhat)\n",
        "      yhat = yhat.reshape(-1)\n",
        "      df_train[f] = yhat\n",
        "\n",
        "val_y = val_data['label']\n",
        "df_train['y_tru'] = np.array(val_y)\n",
        "df_train.head()"
      ],
      "execution_count": null,
      "outputs": [
        {
          "output_type": "stream",
          "text": [
            "Found 2296 validated image filenames belonging to 2 classes.\n",
            "/content/drive/MyDrive/Broner/InceptionResnet/Ml\n",
            "/content/drive/MyDrive/Broner/InceptionResnet/4.hdf5\n"
          ],
          "name": "stdout"
        },
        {
          "output_type": "stream",
          "text": [
            "/usr/local/lib/python3.7/dist-packages/tensorflow/python/keras/engine/training.py:1905: UserWarning: `Model.predict_generator` is deprecated and will be removed in a future version. Please use `Model.predict`, which supports generators.\n",
            "  warnings.warn('`Model.predict_generator` is deprecated and '\n"
          ],
          "name": "stderr"
        },
        {
          "output_type": "stream",
          "text": [
            "/content/drive/MyDrive/Broner/InceptionResnet/3.hdf5\n",
            "/content/drive/MyDrive/Broner/InceptionResnet/0.hdf5\n",
            "/content/drive/MyDrive/Broner/InceptionResnet/1.hdf5\n",
            "/content/drive/MyDrive/Broner/InceptionResnet/2.hdf5\n"
          ],
          "name": "stdout"
        },
        {
          "output_type": "execute_result",
          "data": {
            "text/html": [
              "<div>\n",
              "<style scoped>\n",
              "    .dataframe tbody tr th:only-of-type {\n",
              "        vertical-align: middle;\n",
              "    }\n",
              "\n",
              "    .dataframe tbody tr th {\n",
              "        vertical-align: top;\n",
              "    }\n",
              "\n",
              "    .dataframe thead th {\n",
              "        text-align: right;\n",
              "    }\n",
              "</style>\n",
              "<table border=\"1\" class=\"dataframe\">\n",
              "  <thead>\n",
              "    <tr style=\"text-align: right;\">\n",
              "      <th></th>\n",
              "      <th>4.hdf5</th>\n",
              "      <th>3.hdf5</th>\n",
              "      <th>0.hdf5</th>\n",
              "      <th>1.hdf5</th>\n",
              "      <th>2.hdf5</th>\n",
              "      <th>y_tru</th>\n",
              "    </tr>\n",
              "  </thead>\n",
              "  <tbody>\n",
              "    <tr>\n",
              "      <th>0</th>\n",
              "      <td>0</td>\n",
              "      <td>0</td>\n",
              "      <td>0</td>\n",
              "      <td>0</td>\n",
              "      <td>0</td>\n",
              "      <td>0</td>\n",
              "    </tr>\n",
              "    <tr>\n",
              "      <th>1</th>\n",
              "      <td>0</td>\n",
              "      <td>0</td>\n",
              "      <td>0</td>\n",
              "      <td>0</td>\n",
              "      <td>0</td>\n",
              "      <td>0</td>\n",
              "    </tr>\n",
              "    <tr>\n",
              "      <th>2</th>\n",
              "      <td>1</td>\n",
              "      <td>1</td>\n",
              "      <td>1</td>\n",
              "      <td>1</td>\n",
              "      <td>1</td>\n",
              "      <td>1</td>\n",
              "    </tr>\n",
              "    <tr>\n",
              "      <th>3</th>\n",
              "      <td>0</td>\n",
              "      <td>0</td>\n",
              "      <td>0</td>\n",
              "      <td>0</td>\n",
              "      <td>0</td>\n",
              "      <td>0</td>\n",
              "    </tr>\n",
              "    <tr>\n",
              "      <th>4</th>\n",
              "      <td>1</td>\n",
              "      <td>1</td>\n",
              "      <td>1</td>\n",
              "      <td>1</td>\n",
              "      <td>1</td>\n",
              "      <td>0</td>\n",
              "    </tr>\n",
              "  </tbody>\n",
              "</table>\n",
              "</div>"
            ],
            "text/plain": [
              "   4.hdf5  3.hdf5  0.hdf5  1.hdf5  2.hdf5 y_tru\n",
              "0       0       0       0       0       0     0\n",
              "1       0       0       0       0       0     0\n",
              "2       1       1       1       1       1     1\n",
              "3       0       0       0       0       0     0\n",
              "4       1       1       1       1       1     0"
            ]
          },
          "metadata": {
            "tags": []
          },
          "execution_count": 39
        }
      ]
    },
    {
      "cell_type": "code",
      "metadata": {
        "id": "7VnnxhUe_P63"
      },
      "source": [
        "test_generator2=test_datagen.flow_from_dataframe(\n",
        "dataframe=test_data,\n",
        "directory=ROOT_DIR,\n",
        "x_col=\"0\",\n",
        "y_col='label',\n",
        "batch_size=288,\n",
        "seed=42,\n",
        "shuffle=False,\n",
        "class_mode=\"binary\",\n",
        "target_size=(320,320))\n",
        "\n",
        "STEP_SIZE_TEST=test_generator2.n//test_generator2.batch_size\n",
        "\n",
        "df_test= pd.DataFrame()\n",
        "dir = '/content/drive/MyDrive/Broner/InceptionResnet'\n",
        "for f in os.listdir(dir):\n",
        "    # make prediction\n",
        "    filepath = os.path.join(dir, f)\n",
        "    print(filepath)\n",
        "    if filepath.endswith('hdf5'):\n",
        "      model= keras.models.load_model(filepath)\n",
        "      yhat = model.predict_generator(test_generator2,STEP_SIZE_TEST) \n",
        "      yhat = yhat>=0.5\n",
        "      yhat = np.uint8(yhat)\n",
        "      yhat = yhat.reshape(-1)\n",
        "      df_test[f] = yhat\n",
        "\n",
        "test_y = test_data2['label']\n",
        "df_test['y_tru'] = np.array(test_y)\n",
        "df_test.head()"
      ],
      "execution_count": null,
      "outputs": []
    },
    {
      "cell_type": "code",
      "metadata": {
        "colab": {
          "base_uri": "https://localhost:8080/",
          "height": 419
        },
        "id": "GH1qKKL9J_5b",
        "outputId": "d94f3edc-0131-4e43-bbea-8b06e4095abb"
      },
      "source": [
        "test_y = test_data['label']\n",
        "df_test['y_tru'] = np.array(test_y)\n",
        "df_test"
      ],
      "execution_count": null,
      "outputs": [
        {
          "output_type": "execute_result",
          "data": {
            "text/html": [
              "<div>\n",
              "<style scoped>\n",
              "    .dataframe tbody tr th:only-of-type {\n",
              "        vertical-align: middle;\n",
              "    }\n",
              "\n",
              "    .dataframe tbody tr th {\n",
              "        vertical-align: top;\n",
              "    }\n",
              "\n",
              "    .dataframe thead th {\n",
              "        text-align: right;\n",
              "    }\n",
              "</style>\n",
              "<table border=\"1\" class=\"dataframe\">\n",
              "  <thead>\n",
              "    <tr style=\"text-align: right;\">\n",
              "      <th></th>\n",
              "      <th>4.hdf5</th>\n",
              "      <th>3.hdf5</th>\n",
              "      <th>0.hdf5</th>\n",
              "      <th>1.hdf5</th>\n",
              "      <th>2.hdf5</th>\n",
              "      <th>y_tru</th>\n",
              "    </tr>\n",
              "  </thead>\n",
              "  <tbody>\n",
              "    <tr>\n",
              "      <th>0</th>\n",
              "      <td>0</td>\n",
              "      <td>0</td>\n",
              "      <td>0</td>\n",
              "      <td>0</td>\n",
              "      <td>0</td>\n",
              "      <td>0</td>\n",
              "    </tr>\n",
              "    <tr>\n",
              "      <th>1</th>\n",
              "      <td>1</td>\n",
              "      <td>1</td>\n",
              "      <td>1</td>\n",
              "      <td>1</td>\n",
              "      <td>1</td>\n",
              "      <td>1</td>\n",
              "    </tr>\n",
              "    <tr>\n",
              "      <th>2</th>\n",
              "      <td>0</td>\n",
              "      <td>0</td>\n",
              "      <td>0</td>\n",
              "      <td>0</td>\n",
              "      <td>0</td>\n",
              "      <td>0</td>\n",
              "    </tr>\n",
              "    <tr>\n",
              "      <th>3</th>\n",
              "      <td>0</td>\n",
              "      <td>0</td>\n",
              "      <td>0</td>\n",
              "      <td>0</td>\n",
              "      <td>0</td>\n",
              "      <td>0</td>\n",
              "    </tr>\n",
              "    <tr>\n",
              "      <th>4</th>\n",
              "      <td>0</td>\n",
              "      <td>0</td>\n",
              "      <td>0</td>\n",
              "      <td>0</td>\n",
              "      <td>0</td>\n",
              "      <td>1</td>\n",
              "    </tr>\n",
              "    <tr>\n",
              "      <th>...</th>\n",
              "      <td>...</td>\n",
              "      <td>...</td>\n",
              "      <td>...</td>\n",
              "      <td>...</td>\n",
              "      <td>...</td>\n",
              "      <td>...</td>\n",
              "    </tr>\n",
              "    <tr>\n",
              "      <th>1147</th>\n",
              "      <td>0</td>\n",
              "      <td>0</td>\n",
              "      <td>0</td>\n",
              "      <td>0</td>\n",
              "      <td>0</td>\n",
              "      <td>1</td>\n",
              "    </tr>\n",
              "    <tr>\n",
              "      <th>1148</th>\n",
              "      <td>0</td>\n",
              "      <td>1</td>\n",
              "      <td>0</td>\n",
              "      <td>0</td>\n",
              "      <td>0</td>\n",
              "      <td>0</td>\n",
              "    </tr>\n",
              "    <tr>\n",
              "      <th>1149</th>\n",
              "      <td>0</td>\n",
              "      <td>0</td>\n",
              "      <td>0</td>\n",
              "      <td>1</td>\n",
              "      <td>0</td>\n",
              "      <td>1</td>\n",
              "    </tr>\n",
              "    <tr>\n",
              "      <th>1150</th>\n",
              "      <td>1</td>\n",
              "      <td>1</td>\n",
              "      <td>1</td>\n",
              "      <td>1</td>\n",
              "      <td>1</td>\n",
              "      <td>0</td>\n",
              "    </tr>\n",
              "    <tr>\n",
              "      <th>1151</th>\n",
              "      <td>0</td>\n",
              "      <td>0</td>\n",
              "      <td>0</td>\n",
              "      <td>0</td>\n",
              "      <td>0</td>\n",
              "      <td>0</td>\n",
              "    </tr>\n",
              "  </tbody>\n",
              "</table>\n",
              "<p>1152 rows × 6 columns</p>\n",
              "</div>"
            ],
            "text/plain": [
              "      4.hdf5  3.hdf5  0.hdf5  1.hdf5  2.hdf5 y_tru\n",
              "0          0       0       0       0       0     0\n",
              "1          1       1       1       1       1     1\n",
              "2          0       0       0       0       0     0\n",
              "3          0       0       0       0       0     0\n",
              "4          0       0       0       0       0     1\n",
              "...      ...     ...     ...     ...     ...   ...\n",
              "1147       0       0       0       0       0     1\n",
              "1148       0       1       0       0       0     0\n",
              "1149       0       0       0       1       0     1\n",
              "1150       1       1       1       1       1     0\n",
              "1151       0       0       0       0       0     0\n",
              "\n",
              "[1152 rows x 6 columns]"
            ]
          },
          "metadata": {
            "tags": []
          },
          "execution_count": 43
        }
      ]
    },
    {
      "cell_type": "code",
      "metadata": {
        "id": "7bA819ypFfh7"
      },
      "source": [
        "df_train.to_csv('/content/drive/MyDrive/Broner/InceptionResnet/Ml/train_ensemble.csv' , index=False)\n",
        "df_test.to_csv('/content/drive/MyDrive/Broner/InceptionResnet/Ml/test_ensemble.csv' , index=False)"
      ],
      "execution_count": null,
      "outputs": []
    },
    {
      "cell_type": "code",
      "metadata": {
        "id": "c7ebjZkzKiQw",
        "colab": {
          "base_uri": "https://localhost:8080/"
        },
        "outputId": "d4da7803-ef65-4899-f65a-92a71033d2aa"
      },
      "source": [
        "from sklearn.linear_model import LogisticRegression\n",
        "from sklearn.svm import SVC\n",
        "from sklearn.model_selection import cross_val_score , train_test_split\n",
        "train_x = df_train.drop(['y_tru'] , axis=1)\n",
        "train_y = df_train['y_tru']\n",
        "test_x = df_test.drop(['y_tru'] , axis=1)\n",
        "test_y = df_test['y_tru']\n",
        "logreg = LogisticRegression()\n",
        "logreg.fit(train_x , train_y)\n",
        "cv_score = cross_val_score(logreg ,test_x,test_y , cv =5 )\n",
        "print(cv_score)\n",
        "print(np.mean(cv_score))"
      ],
      "execution_count": null,
      "outputs": [
        {
          "output_type": "stream",
          "text": [
            "[0.76190476 0.78354978 0.79130435 0.81304348 0.75652174]\n",
            "0.7812648221343873\n"
          ],
          "name": "stdout"
        }
      ]
    },
    {
      "cell_type": "code",
      "metadata": {
        "colab": {
          "base_uri": "https://localhost:8080/",
          "height": 191
        },
        "id": "tSoVU4_hE0ZP",
        "outputId": "9c47025a-850e-4583-ddd0-545bd79207d7"
      },
      "source": [
        "df_test.head()"
      ],
      "execution_count": null,
      "outputs": [
        {
          "output_type": "execute_result",
          "data": {
            "text/html": [
              "<div>\n",
              "<style scoped>\n",
              "    .dataframe tbody tr th:only-of-type {\n",
              "        vertical-align: middle;\n",
              "    }\n",
              "\n",
              "    .dataframe tbody tr th {\n",
              "        vertical-align: top;\n",
              "    }\n",
              "\n",
              "    .dataframe thead th {\n",
              "        text-align: right;\n",
              "    }\n",
              "</style>\n",
              "<table border=\"1\" class=\"dataframe\">\n",
              "  <thead>\n",
              "    <tr style=\"text-align: right;\">\n",
              "      <th></th>\n",
              "      <th>4.hdf5</th>\n",
              "      <th>3.hdf5</th>\n",
              "      <th>0.hdf5</th>\n",
              "      <th>1.hdf5</th>\n",
              "      <th>2.hdf5</th>\n",
              "      <th>y_tru</th>\n",
              "    </tr>\n",
              "  </thead>\n",
              "  <tbody>\n",
              "    <tr>\n",
              "      <th>0</th>\n",
              "      <td>0</td>\n",
              "      <td>1</td>\n",
              "      <td>0</td>\n",
              "      <td>0</td>\n",
              "      <td>0</td>\n",
              "      <td>0</td>\n",
              "    </tr>\n",
              "    <tr>\n",
              "      <th>1</th>\n",
              "      <td>0</td>\n",
              "      <td>1</td>\n",
              "      <td>1</td>\n",
              "      <td>1</td>\n",
              "      <td>1</td>\n",
              "      <td>1</td>\n",
              "    </tr>\n",
              "    <tr>\n",
              "      <th>2</th>\n",
              "      <td>0</td>\n",
              "      <td>0</td>\n",
              "      <td>0</td>\n",
              "      <td>0</td>\n",
              "      <td>0</td>\n",
              "      <td>0</td>\n",
              "    </tr>\n",
              "    <tr>\n",
              "      <th>3</th>\n",
              "      <td>0</td>\n",
              "      <td>0</td>\n",
              "      <td>0</td>\n",
              "      <td>1</td>\n",
              "      <td>0</td>\n",
              "      <td>0</td>\n",
              "    </tr>\n",
              "    <tr>\n",
              "      <th>4</th>\n",
              "      <td>1</td>\n",
              "      <td>1</td>\n",
              "      <td>0</td>\n",
              "      <td>1</td>\n",
              "      <td>1</td>\n",
              "      <td>1</td>\n",
              "    </tr>\n",
              "  </tbody>\n",
              "</table>\n",
              "</div>"
            ],
            "text/plain": [
              "   4.hdf5  3.hdf5  0.hdf5  1.hdf5  2.hdf5 y_tru\n",
              "0       0       1       0       0       0     0\n",
              "1       0       1       1       1       1     1\n",
              "2       0       0       0       0       0     0\n",
              "3       0       0       0       1       0     0\n",
              "4       1       1       0       1       1     1"
            ]
          },
          "metadata": {
            "tags": []
          },
          "execution_count": 21
        }
      ]
    },
    {
      "cell_type": "code",
      "metadata": {
        "colab": {
          "base_uri": "https://localhost:8080/"
        },
        "id": "qhZtfSroncBl",
        "outputId": "5fa4caab-54a0-48b1-84a0-2a0d8db15474"
      },
      "source": [
        "from sklearn.linear_model import LogisticRegression\n",
        "from sklearn.model_selection import GridSearchCV\n",
        "lr = LogisticRegression(penalty='l1',solver='liblinear')\n",
        "train_x = df_train.drop(['y_tru'] , axis=1)\n",
        "train_y = df_train['y_tru']\n",
        "test_x = df_test.drop(['y_tru'] , axis=1)\n",
        "test_y = df_test['y_tru']\n",
        "# Instantiate the GridSearchCV object and run the search\n",
        "searcher = GridSearchCV(lr, {'C':[0.001, 0.01, 0.1, 1, 10]})\n",
        "searcher.fit(train_x, train_y)\n",
        "df_test['predicted']=searcher.predict(test_x)\n",
        "# Report the best parameters\n",
        "print(\"Best CV params\", searcher.best_params_)\n",
        "df_train.to_csv('/content/drive/MyDrive/Broner/InceptionResnet/Ml/train_ensemble.csv' , index=False)\n",
        "df_test.to_csv('/content/drive/MyDrive/Broner/InceptionResnet/Ml/test_ensemble.csv' , index=False)\n",
        "# Find the number of nonzero coefficients (selected features)\n",
        "best_lr = searcher.best_estimator_\n",
        "coefs = best_lr.coef_\n",
        "print(\"Total number of features:\", coefs.size)\n",
        "print(\"Number of selected features:\", np.count_nonzero(coefs))\n",
        "print(best_lr.score(test_x,test_y))"
      ],
      "execution_count": null,
      "outputs": [
        {
          "output_type": "stream",
          "text": [
            "Best CV params {'C': 0.01}\n",
            "Total number of features: 5\n",
            "Number of selected features: 4\n",
            "0.7786458333333334\n"
          ],
          "name": "stdout"
        }
      ]
    },
    {
      "cell_type": "code",
      "metadata": {
        "colab": {
          "base_uri": "https://localhost:8080/",
          "height": 204
        },
        "id": "soqaI2LsUX_N",
        "outputId": "1b2f710c-4c1f-4176-b6f6-e37c7e25f647"
      },
      "source": [
        "df_test.head()"
      ],
      "execution_count": null,
      "outputs": [
        {
          "output_type": "execute_result",
          "data": {
            "text/html": [
              "<div>\n",
              "<style scoped>\n",
              "    .dataframe tbody tr th:only-of-type {\n",
              "        vertical-align: middle;\n",
              "    }\n",
              "\n",
              "    .dataframe tbody tr th {\n",
              "        vertical-align: top;\n",
              "    }\n",
              "\n",
              "    .dataframe thead th {\n",
              "        text-align: right;\n",
              "    }\n",
              "</style>\n",
              "<table border=\"1\" class=\"dataframe\">\n",
              "  <thead>\n",
              "    <tr style=\"text-align: right;\">\n",
              "      <th></th>\n",
              "      <th>4.hdf5</th>\n",
              "      <th>3.hdf5</th>\n",
              "      <th>0.hdf5</th>\n",
              "      <th>1.hdf5</th>\n",
              "      <th>2.hdf5</th>\n",
              "      <th>y_tru</th>\n",
              "      <th>predicted</th>\n",
              "    </tr>\n",
              "  </thead>\n",
              "  <tbody>\n",
              "    <tr>\n",
              "      <th>0</th>\n",
              "      <td>0</td>\n",
              "      <td>0</td>\n",
              "      <td>0</td>\n",
              "      <td>0</td>\n",
              "      <td>0</td>\n",
              "      <td>0</td>\n",
              "      <td>0</td>\n",
              "    </tr>\n",
              "    <tr>\n",
              "      <th>1</th>\n",
              "      <td>1</td>\n",
              "      <td>1</td>\n",
              "      <td>1</td>\n",
              "      <td>1</td>\n",
              "      <td>1</td>\n",
              "      <td>1</td>\n",
              "      <td>1</td>\n",
              "    </tr>\n",
              "    <tr>\n",
              "      <th>2</th>\n",
              "      <td>0</td>\n",
              "      <td>0</td>\n",
              "      <td>0</td>\n",
              "      <td>0</td>\n",
              "      <td>0</td>\n",
              "      <td>0</td>\n",
              "      <td>0</td>\n",
              "    </tr>\n",
              "    <tr>\n",
              "      <th>3</th>\n",
              "      <td>0</td>\n",
              "      <td>0</td>\n",
              "      <td>0</td>\n",
              "      <td>0</td>\n",
              "      <td>0</td>\n",
              "      <td>0</td>\n",
              "      <td>0</td>\n",
              "    </tr>\n",
              "    <tr>\n",
              "      <th>4</th>\n",
              "      <td>0</td>\n",
              "      <td>0</td>\n",
              "      <td>0</td>\n",
              "      <td>0</td>\n",
              "      <td>0</td>\n",
              "      <td>1</td>\n",
              "      <td>0</td>\n",
              "    </tr>\n",
              "  </tbody>\n",
              "</table>\n",
              "</div>"
            ],
            "text/plain": [
              "   4.hdf5  3.hdf5  0.hdf5  1.hdf5  2.hdf5 y_tru predicted\n",
              "0       0       0       0       0       0     0         0\n",
              "1       1       1       1       1       1     1         1\n",
              "2       0       0       0       0       0     0         0\n",
              "3       0       0       0       0       0     0         0\n",
              "4       0       0       0       0       0     1         0"
            ]
          },
          "metadata": {
            "tags": []
          },
          "execution_count": 48
        }
      ]
    },
    {
      "cell_type": "code",
      "metadata": {
        "colab": {
          "base_uri": "https://localhost:8080/"
        },
        "id": "S_mKGD2zpgTY",
        "outputId": "754dcbeb-50ba-466f-f142-c0a2c9d58a59"
      },
      "source": [
        "from sklearn.linear_model import LogisticRegression\n",
        "from sklearn.model_selection import GridSearchCV\n",
        "from sklearn.svm import SVC\n",
        "svm=SVC()\n",
        "df_train = pd.read_csv('/content/drive/MyDrive/Broner/InceptionResnet/Ml/train_ensemble.csv')\n",
        "df_test  = pd.read_csv('/content/drive/MyDrive/Broner/InceptionResnet/Ml/test_ensemble.csv')\n",
        "train_x = df_train.drop(['y_tru'] , axis=1)\n",
        "train_y = df_train['y_tru']\n",
        "test_x = df_test.drop(['y_tru','predicted'] , axis=1)\n",
        "test_y = df_test['y_tru']\n",
        "parameters = {'C':[0.1, 1, 10], 'gamma':[0.00001, 0.0001, 0.001, 0.01, 0.1]}\n",
        "searcher = GridSearchCV(svm, parameters)\n",
        "searcher.fit(train_x,train_y)\n",
        "df_test['predicted']=searcher.predict(test_x)\n",
        "df_train.to_csv('/content/drive/MyDrive/Broner/InceptionResnet/Ml/train_ensemble.csv' , index=False)\n",
        "df_test.to_csv('/content/drive/MyDrive/Broner/InceptionResnet/Ml/test_ensemble.csv' , index=False)\n",
        "# Report the best parameters and the corresponding score\n",
        "print(\"Best CV params\", searcher.best_params_)\n",
        "print(\"Best CV accuracy\", searcher.best_score_)\n",
        "\n",
        "# Report the test accuracy using these best parameters\n",
        "print(\"Test accuracy of best grid search hypers:\", searcher.score(test_x , test_y))"
      ],
      "execution_count": null,
      "outputs": [
        {
          "output_type": "stream",
          "text": [
            "Best CV params {'C': 10, 'gamma': 0.1}\n",
            "Best CV accuracy 0.7809216633513307\n",
            "Test accuracy of best grid search hypers: 0.7795138888888888\n"
          ],
          "name": "stdout"
        }
      ]
    },
    {
      "cell_type": "code",
      "metadata": {
        "colab": {
          "base_uri": "https://localhost:8080/",
          "height": 204
        },
        "id": "pBuwm2ssGiRQ",
        "outputId": "ba10e09b-45e2-4f2e-9654-ebbce1e573e0"
      },
      "source": [
        "df_test.head()"
      ],
      "execution_count": null,
      "outputs": [
        {
          "output_type": "execute_result",
          "data": {
            "text/html": [
              "<div>\n",
              "<style scoped>\n",
              "    .dataframe tbody tr th:only-of-type {\n",
              "        vertical-align: middle;\n",
              "    }\n",
              "\n",
              "    .dataframe tbody tr th {\n",
              "        vertical-align: top;\n",
              "    }\n",
              "\n",
              "    .dataframe thead th {\n",
              "        text-align: right;\n",
              "    }\n",
              "</style>\n",
              "<table border=\"1\" class=\"dataframe\">\n",
              "  <thead>\n",
              "    <tr style=\"text-align: right;\">\n",
              "      <th></th>\n",
              "      <th>4.hdf5</th>\n",
              "      <th>3.hdf5</th>\n",
              "      <th>0.hdf5</th>\n",
              "      <th>1.hdf5</th>\n",
              "      <th>2.hdf5</th>\n",
              "      <th>y_tru</th>\n",
              "      <th>predicted</th>\n",
              "    </tr>\n",
              "  </thead>\n",
              "  <tbody>\n",
              "    <tr>\n",
              "      <th>0</th>\n",
              "      <td>0</td>\n",
              "      <td>0</td>\n",
              "      <td>0</td>\n",
              "      <td>0</td>\n",
              "      <td>0</td>\n",
              "      <td>0</td>\n",
              "      <td>0</td>\n",
              "    </tr>\n",
              "    <tr>\n",
              "      <th>1</th>\n",
              "      <td>1</td>\n",
              "      <td>1</td>\n",
              "      <td>1</td>\n",
              "      <td>1</td>\n",
              "      <td>1</td>\n",
              "      <td>1</td>\n",
              "      <td>1</td>\n",
              "    </tr>\n",
              "    <tr>\n",
              "      <th>2</th>\n",
              "      <td>0</td>\n",
              "      <td>0</td>\n",
              "      <td>0</td>\n",
              "      <td>0</td>\n",
              "      <td>0</td>\n",
              "      <td>0</td>\n",
              "      <td>0</td>\n",
              "    </tr>\n",
              "    <tr>\n",
              "      <th>3</th>\n",
              "      <td>0</td>\n",
              "      <td>0</td>\n",
              "      <td>0</td>\n",
              "      <td>0</td>\n",
              "      <td>0</td>\n",
              "      <td>0</td>\n",
              "      <td>0</td>\n",
              "    </tr>\n",
              "    <tr>\n",
              "      <th>4</th>\n",
              "      <td>0</td>\n",
              "      <td>0</td>\n",
              "      <td>0</td>\n",
              "      <td>0</td>\n",
              "      <td>0</td>\n",
              "      <td>1</td>\n",
              "      <td>0</td>\n",
              "    </tr>\n",
              "  </tbody>\n",
              "</table>\n",
              "</div>"
            ],
            "text/plain": [
              "   4.hdf5  3.hdf5  0.hdf5  1.hdf5  2.hdf5  y_tru  predicted\n",
              "0       0       0       0       0       0      0          0\n",
              "1       1       1       1       1       1      1          1\n",
              "2       0       0       0       0       0      0          0\n",
              "3       0       0       0       0       0      0          0\n",
              "4       0       0       0       0       0      1          0"
            ]
          },
          "metadata": {
            "tags": []
          },
          "execution_count": 50
        }
      ]
    },
    {
      "cell_type": "code",
      "metadata": {
        "colab": {
          "base_uri": "https://localhost:8080/"
        },
        "id": "7Ut-XTemWvMO",
        "outputId": "81fbf4f8-8feb-4e99-e2ef-a7e924a2d827"
      },
      "source": [
        "from sklearn.linear_model import SGDClassifier\n",
        "from sklearn.model_selection import GridSearchCV\n",
        "from sklearn.svm import SVC\n",
        "linear_classifier = SGDClassifier(random_state=0)\n",
        "df_train = pd.read_csv('/content/drive/MyDrive/Broner/InceptionResnet/Ml/train_ensemble.csv')\n",
        "df_test  = pd.read_csv('/content/drive/MyDrive/Broner/InceptionResnet/Ml/test_ensemble.csv')\n",
        "train_x = df_train.drop(['y_tru'] , axis=1)\n",
        "train_y = df_train['y_tru']\n",
        "test_x = df_test.drop(['y_tru','predicted'] , axis=1)\n",
        "test_y = df_test['y_tru']\n",
        "parameters = {'alpha':[0.00001, 0.0001, 0.001, 0.01, 0.1, 1], \n",
        "             'loss':['hinge','log'], 'penalty':['l1' , 'l2']}\n",
        "searcher = GridSearchCV(linear_classifier, parameters, cv=10)\n",
        "searcher.fit(train_x,train_y)\n",
        "df_test['predicted']=searcher.predict(test_x)\n",
        "df_train.to_csv('/content/drive/MyDrive/Broner/InceptionResnet/Ml/train_ensemble.csv' , index=False)\n",
        "df_test.to_csv('/content/drive/MyDrive/Broner/InceptionResnet/Ml/test_ensemble.csv' , index=False)\n",
        "# Report the best parameters and the corresponding score\n",
        "print(\"Best CV params\", searcher.best_params_)\n",
        "print(\"Best CV accuracy\", searcher.best_score_)\n",
        "print(\"Test accuracy of best grid search hypers:\", searcher.score(test_x, test_y))"
      ],
      "execution_count": null,
      "outputs": [
        {
          "output_type": "stream",
          "text": [
            "Best CV params {'alpha': 0.0001, 'loss': 'log', 'penalty': 'l2'}\n",
            "Best CV accuracy 0.7800303778241884\n",
            "Test accuracy of best grid search hypers: 0.7829861111111112\n"
          ],
          "name": "stdout"
        }
      ]
    },
    {
      "cell_type": "code",
      "metadata": {
        "id": "BO-J4vhGyCcd",
        "colab": {
          "base_uri": "https://localhost:8080/",
          "height": 419
        },
        "outputId": "5b0a8e94-e933-4f32-c54a-609abba626ce"
      },
      "source": [
        "df_test"
      ],
      "execution_count": null,
      "outputs": [
        {
          "output_type": "execute_result",
          "data": {
            "text/html": [
              "<div>\n",
              "<style scoped>\n",
              "    .dataframe tbody tr th:only-of-type {\n",
              "        vertical-align: middle;\n",
              "    }\n",
              "\n",
              "    .dataframe tbody tr th {\n",
              "        vertical-align: top;\n",
              "    }\n",
              "\n",
              "    .dataframe thead th {\n",
              "        text-align: right;\n",
              "    }\n",
              "</style>\n",
              "<table border=\"1\" class=\"dataframe\">\n",
              "  <thead>\n",
              "    <tr style=\"text-align: right;\">\n",
              "      <th></th>\n",
              "      <th>4.hdf5</th>\n",
              "      <th>3.hdf5</th>\n",
              "      <th>0.hdf5</th>\n",
              "      <th>1.hdf5</th>\n",
              "      <th>2.hdf5</th>\n",
              "      <th>y_tru</th>\n",
              "      <th>predicted</th>\n",
              "    </tr>\n",
              "  </thead>\n",
              "  <tbody>\n",
              "    <tr>\n",
              "      <th>0</th>\n",
              "      <td>0</td>\n",
              "      <td>0</td>\n",
              "      <td>0</td>\n",
              "      <td>0</td>\n",
              "      <td>0</td>\n",
              "      <td>0</td>\n",
              "      <td>0</td>\n",
              "    </tr>\n",
              "    <tr>\n",
              "      <th>1</th>\n",
              "      <td>1</td>\n",
              "      <td>1</td>\n",
              "      <td>1</td>\n",
              "      <td>1</td>\n",
              "      <td>1</td>\n",
              "      <td>1</td>\n",
              "      <td>1</td>\n",
              "    </tr>\n",
              "    <tr>\n",
              "      <th>2</th>\n",
              "      <td>0</td>\n",
              "      <td>0</td>\n",
              "      <td>0</td>\n",
              "      <td>0</td>\n",
              "      <td>0</td>\n",
              "      <td>0</td>\n",
              "      <td>0</td>\n",
              "    </tr>\n",
              "    <tr>\n",
              "      <th>3</th>\n",
              "      <td>0</td>\n",
              "      <td>0</td>\n",
              "      <td>0</td>\n",
              "      <td>0</td>\n",
              "      <td>0</td>\n",
              "      <td>0</td>\n",
              "      <td>0</td>\n",
              "    </tr>\n",
              "    <tr>\n",
              "      <th>4</th>\n",
              "      <td>0</td>\n",
              "      <td>0</td>\n",
              "      <td>0</td>\n",
              "      <td>0</td>\n",
              "      <td>0</td>\n",
              "      <td>1</td>\n",
              "      <td>0</td>\n",
              "    </tr>\n",
              "    <tr>\n",
              "      <th>...</th>\n",
              "      <td>...</td>\n",
              "      <td>...</td>\n",
              "      <td>...</td>\n",
              "      <td>...</td>\n",
              "      <td>...</td>\n",
              "      <td>...</td>\n",
              "      <td>...</td>\n",
              "    </tr>\n",
              "    <tr>\n",
              "      <th>1147</th>\n",
              "      <td>0</td>\n",
              "      <td>0</td>\n",
              "      <td>0</td>\n",
              "      <td>0</td>\n",
              "      <td>0</td>\n",
              "      <td>1</td>\n",
              "      <td>0</td>\n",
              "    </tr>\n",
              "    <tr>\n",
              "      <th>1148</th>\n",
              "      <td>0</td>\n",
              "      <td>1</td>\n",
              "      <td>0</td>\n",
              "      <td>0</td>\n",
              "      <td>0</td>\n",
              "      <td>0</td>\n",
              "      <td>0</td>\n",
              "    </tr>\n",
              "    <tr>\n",
              "      <th>1149</th>\n",
              "      <td>0</td>\n",
              "      <td>0</td>\n",
              "      <td>0</td>\n",
              "      <td>1</td>\n",
              "      <td>0</td>\n",
              "      <td>1</td>\n",
              "      <td>0</td>\n",
              "    </tr>\n",
              "    <tr>\n",
              "      <th>1150</th>\n",
              "      <td>1</td>\n",
              "      <td>1</td>\n",
              "      <td>1</td>\n",
              "      <td>1</td>\n",
              "      <td>1</td>\n",
              "      <td>0</td>\n",
              "      <td>1</td>\n",
              "    </tr>\n",
              "    <tr>\n",
              "      <th>1151</th>\n",
              "      <td>0</td>\n",
              "      <td>0</td>\n",
              "      <td>0</td>\n",
              "      <td>0</td>\n",
              "      <td>0</td>\n",
              "      <td>0</td>\n",
              "      <td>0</td>\n",
              "    </tr>\n",
              "  </tbody>\n",
              "</table>\n",
              "<p>1152 rows × 7 columns</p>\n",
              "</div>"
            ],
            "text/plain": [
              "      4.hdf5  3.hdf5  0.hdf5  1.hdf5  2.hdf5  y_tru  predicted\n",
              "0          0       0       0       0       0      0          0\n",
              "1          1       1       1       1       1      1          1\n",
              "2          0       0       0       0       0      0          0\n",
              "3          0       0       0       0       0      0          0\n",
              "4          0       0       0       0       0      1          0\n",
              "...      ...     ...     ...     ...     ...    ...        ...\n",
              "1147       0       0       0       0       0      1          0\n",
              "1148       0       1       0       0       0      0          0\n",
              "1149       0       0       0       1       0      1          0\n",
              "1150       1       1       1       1       1      0          1\n",
              "1151       0       0       0       0       0      0          0\n",
              "\n",
              "[1152 rows x 7 columns]"
            ]
          },
          "metadata": {
            "tags": []
          },
          "execution_count": 52
        }
      ]
    },
    {
      "cell_type": "code",
      "metadata": {
        "id": "kCabpTmF0m6N"
      },
      "source": [
        "# Import DecisionTreeClassifier\n",
        "from sklearn.tree import DecisionTreeClassifier\n",
        "\n",
        "# Import BaggingClassifier\n",
        "from sklearn.ensemble import BaggingClassifier\n",
        "\n",
        "# Instantiate dt\n",
        "dt = DecisionTreeClassifier(random_state=1)\n",
        "\n",
        "# Instantiate bc\n",
        "bc = BaggingClassifier(base_estimator=dt, n_estimators=50, random_state=1)\n",
        "\n",
        "bc.fit(X_train,y_train)\n",
        "\n",
        "# Predict test set labels\n",
        "y_pred = bc.predict(X_test)\n",
        "\n",
        "# Evaluate acc_test\n",
        "acc_test = accuracy_score(y_test, y_pred)\n",
        "print('Test set accuracy of bc: {:.2f}'.format(acc_test)) "
      ],
      "execution_count": null,
      "outputs": []
    },
    {
      "cell_type": "code",
      "metadata": {
        "id": "jzVNfJL8L7RT"
      },
      "source": [
        "import pickle\n",
        "filename = '/content/drive/MyDrive/Broner/InceptionResnet/Ml/finalized_model.sav'\n",
        "pickle.dump(searcher, open(filename, 'wb'))\n",
        " \n",
        "# some time later...\n",
        " \n",
        "# load the model from disk\n",
        "# loaded_model = pickle.load(open(filename, 'rb'))\n",
        "# result = loaded_model.score(X_test, Y_test)\n",
        "# print(result)"
      ],
      "execution_count": null,
      "outputs": []
    },
    {
      "cell_type": "code",
      "metadata": {
        "colab": {
          "base_uri": "https://localhost:8080/",
          "height": 402
        },
        "id": "pp5T-s52t63V",
        "outputId": "c546bf4f-0674-465d-f308-678b2405c726"
      },
      "source": [
        "from sklearn.metrics import  roc_auc_score , mean_squared_error\n",
        "df_test = pd.read_csv('/content/drive/MyDrive/Broner/InceptionResnet/Ml/test_ensemble.csv')\n",
        "df_test"
      ],
      "execution_count": null,
      "outputs": [
        {
          "output_type": "execute_result",
          "data": {
            "text/html": [
              "<div>\n",
              "<style scoped>\n",
              "    .dataframe tbody tr th:only-of-type {\n",
              "        vertical-align: middle;\n",
              "    }\n",
              "\n",
              "    .dataframe tbody tr th {\n",
              "        vertical-align: top;\n",
              "    }\n",
              "\n",
              "    .dataframe thead th {\n",
              "        text-align: right;\n",
              "    }\n",
              "</style>\n",
              "<table border=\"1\" class=\"dataframe\">\n",
              "  <thead>\n",
              "    <tr style=\"text-align: right;\">\n",
              "      <th></th>\n",
              "      <th>4.hdf5</th>\n",
              "      <th>0.hdf5</th>\n",
              "      <th>1.hdf5</th>\n",
              "      <th>2.hdf5</th>\n",
              "      <th>3.hdf5</th>\n",
              "      <th>y_tru</th>\n",
              "      <th>predicted</th>\n",
              "    </tr>\n",
              "  </thead>\n",
              "  <tbody>\n",
              "    <tr>\n",
              "      <th>0</th>\n",
              "      <td>1</td>\n",
              "      <td>1</td>\n",
              "      <td>1</td>\n",
              "      <td>1</td>\n",
              "      <td>1</td>\n",
              "      <td>1</td>\n",
              "      <td>1</td>\n",
              "    </tr>\n",
              "    <tr>\n",
              "      <th>1</th>\n",
              "      <td>1</td>\n",
              "      <td>1</td>\n",
              "      <td>1</td>\n",
              "      <td>1</td>\n",
              "      <td>1</td>\n",
              "      <td>0</td>\n",
              "      <td>1</td>\n",
              "    </tr>\n",
              "    <tr>\n",
              "      <th>2</th>\n",
              "      <td>0</td>\n",
              "      <td>0</td>\n",
              "      <td>0</td>\n",
              "      <td>0</td>\n",
              "      <td>0</td>\n",
              "      <td>0</td>\n",
              "      <td>0</td>\n",
              "    </tr>\n",
              "    <tr>\n",
              "      <th>3</th>\n",
              "      <td>0</td>\n",
              "      <td>0</td>\n",
              "      <td>0</td>\n",
              "      <td>0</td>\n",
              "      <td>0</td>\n",
              "      <td>0</td>\n",
              "      <td>0</td>\n",
              "    </tr>\n",
              "    <tr>\n",
              "      <th>4</th>\n",
              "      <td>1</td>\n",
              "      <td>1</td>\n",
              "      <td>1</td>\n",
              "      <td>1</td>\n",
              "      <td>1</td>\n",
              "      <td>1</td>\n",
              "      <td>1</td>\n",
              "    </tr>\n",
              "    <tr>\n",
              "      <th>...</th>\n",
              "      <td>...</td>\n",
              "      <td>...</td>\n",
              "      <td>...</td>\n",
              "      <td>...</td>\n",
              "      <td>...</td>\n",
              "      <td>...</td>\n",
              "      <td>...</td>\n",
              "    </tr>\n",
              "    <tr>\n",
              "      <th>556</th>\n",
              "      <td>1</td>\n",
              "      <td>1</td>\n",
              "      <td>1</td>\n",
              "      <td>1</td>\n",
              "      <td>1</td>\n",
              "      <td>1</td>\n",
              "      <td>1</td>\n",
              "    </tr>\n",
              "    <tr>\n",
              "      <th>557</th>\n",
              "      <td>1</td>\n",
              "      <td>1</td>\n",
              "      <td>1</td>\n",
              "      <td>1</td>\n",
              "      <td>1</td>\n",
              "      <td>1</td>\n",
              "      <td>1</td>\n",
              "    </tr>\n",
              "    <tr>\n",
              "      <th>558</th>\n",
              "      <td>1</td>\n",
              "      <td>1</td>\n",
              "      <td>1</td>\n",
              "      <td>1</td>\n",
              "      <td>1</td>\n",
              "      <td>0</td>\n",
              "      <td>1</td>\n",
              "    </tr>\n",
              "    <tr>\n",
              "      <th>559</th>\n",
              "      <td>1</td>\n",
              "      <td>1</td>\n",
              "      <td>1</td>\n",
              "      <td>1</td>\n",
              "      <td>1</td>\n",
              "      <td>1</td>\n",
              "      <td>1</td>\n",
              "    </tr>\n",
              "    <tr>\n",
              "      <th>560</th>\n",
              "      <td>0</td>\n",
              "      <td>0</td>\n",
              "      <td>0</td>\n",
              "      <td>0</td>\n",
              "      <td>0</td>\n",
              "      <td>0</td>\n",
              "      <td>0</td>\n",
              "    </tr>\n",
              "  </tbody>\n",
              "</table>\n",
              "<p>561 rows × 7 columns</p>\n",
              "</div>"
            ],
            "text/plain": [
              "     4.hdf5  0.hdf5  1.hdf5  2.hdf5  3.hdf5  y_tru  predicted\n",
              "0         1       1       1       1       1      1          1\n",
              "1         1       1       1       1       1      0          1\n",
              "2         0       0       0       0       0      0          0\n",
              "3         0       0       0       0       0      0          0\n",
              "4         1       1       1       1       1      1          1\n",
              "..      ...     ...     ...     ...     ...    ...        ...\n",
              "556       1       1       1       1       1      1          1\n",
              "557       1       1       1       1       1      1          1\n",
              "558       1       1       1       1       1      0          1\n",
              "559       1       1       1       1       1      1          1\n",
              "560       0       0       0       0       0      0          0\n",
              "\n",
              "[561 rows x 7 columns]"
            ]
          },
          "metadata": {
            "tags": []
          },
          "execution_count": 68
        }
      ]
    },
    {
      "cell_type": "code",
      "metadata": {
        "colab": {
          "base_uri": "https://localhost:8080/"
        },
        "id": "LZ4dQqEOvK8M",
        "outputId": "f3948538-760d-47e9-8ab6-054e10298b13"
      },
      "source": [
        "print(roc_auc_score(df_test['y_tru'] , df_test['predicted']))"
      ],
      "execution_count": null,
      "outputs": [
        {
          "output_type": "stream",
          "text": [
            "0.7287906137184116\n"
          ],
          "name": "stdout"
        }
      ]
    },
    {
      "cell_type": "code",
      "metadata": {
        "id": "geHXyZ1YvcTs"
      },
      "source": [
        "import pickle\n",
        "filename = '/content/drive/MyDrive/Broner/InceptionResnet/Ml/finalized_model.sav'\n",
        "loaded_model = pickle.load(open(filename, 'rb'))\n",
        "x_test = df_test.drop(['y_tru' , 'predicted'],axis=1).values\n",
        "y_test = df_test['y_tru'].values  \n",
        "plt.show()"
      ],
      "execution_count": null,
      "outputs": []
    },
    {
      "cell_type": "code",
      "metadata": {
        "colab": {
          "base_uri": "https://localhost:8080/",
          "height": 467
        },
        "id": "IkuOL6T-uwoj",
        "outputId": "35763fdb-4909-4950-c054-5899b09ca877"
      },
      "source": [
        "import numpy as np\n",
        "from sklearn.metrics import confusion_matrix\n",
        "\n",
        "def plot_confusion_matrix(cm,\n",
        "                          target_names,\n",
        "                          title='Confusion matrix',\n",
        "                          cmap=None,\n",
        "                          normalize=True):\n",
        "    \"\"\"\n",
        "    given a sklearn confusion matrix (cm), make a nice plot\n",
        "\n",
        "    Arguments\n",
        "    ---------\n",
        "    cm:           confusion matrix from sklearn.metrics.confusion_matrix\n",
        "\n",
        "    target_names: given classification classes such as [0, 1, 2]\n",
        "                  the class names, for example: ['high', 'medium', 'low']\n",
        "\n",
        "    title:        the text to display at the top of the matrix\n",
        "\n",
        "    cmap:         the gradient of the values displayed from matplotlib.pyplot.cm\n",
        "                  see http://matplotlib.org/examples/color/colormaps_reference.html\n",
        "                  plt.get_cmap('jet') or plt.cm.Blues\n",
        "\n",
        "    normalize:    If False, plot the raw numbers\n",
        "                  If True, plot the proportions\n",
        "\n",
        "    Usage\n",
        "    -----\n",
        "    plot_confusion_matrix(cm           = cm,                  # confusion matrix created by\n",
        "                                                              # sklearn.metrics.confusion_matrix\n",
        "                          normalize    = True,                # show proportions\n",
        "                          target_names = y_labels_vals,       # list of names of the classes\n",
        "                          title        = best_estimator_name) # title of graph\n",
        "\n",
        "    Citiation\n",
        "    ---------\n",
        "    http://scikit-learn.org/stable/auto_examples/model_selection/plot_confusion_matrix.html\n",
        "\n",
        "    \"\"\"\n",
        "    import matplotlib.pyplot as plt\n",
        "    import numpy as np\n",
        "    import itertools\n",
        "\n",
        "    accuracy = np.trace(cm) / float(np.sum(cm))\n",
        "    misclass = 1 - accuracy\n",
        "\n",
        "    if cmap is None:\n",
        "        cmap = plt.get_cmap('Blues')\n",
        "\n",
        "    plt.figure(figsize=(8, 6))\n",
        "    plt.imshow(cm, interpolation='nearest', cmap=cmap)\n",
        "    plt.title(title)\n",
        "    plt.colorbar()\n",
        "\n",
        "    if target_names is not None:\n",
        "        tick_marks = np.arange(len(target_names))\n",
        "        plt.xticks(tick_marks, target_names, rotation=45)\n",
        "        plt.yticks(tick_marks, target_names)\n",
        "\n",
        "    if normalize:\n",
        "        cm = cm.astype('float') / cm.sum(axis=1)[:, np.newaxis]\n",
        "\n",
        "\n",
        "    thresh = cm.max() / 1.5 if normalize else cm.max() / 2\n",
        "    for i, j in itertools.product(range(cm.shape[0]), range(cm.shape[1])):\n",
        "        if normalize:\n",
        "            plt.text(j, i, \"{:0.4f}\".format(cm[i, j]),\n",
        "                     horizontalalignment=\"center\",\n",
        "                     color=\"white\" if cm[i, j] > thresh else \"black\")\n",
        "        else:\n",
        "            plt.text(j, i, \"{:,}\".format(cm[i, j]),\n",
        "                     horizontalalignment=\"center\",\n",
        "                     color=\"white\" if cm[i, j] > thresh else \"black\")\n",
        "\n",
        "\n",
        "    plt.tight_layout()\n",
        "    plt.ylabel('True label')\n",
        "    plt.xlabel('Predicted label\\naccuracy={:0.4f}; misclass={:0.4f}'.format(accuracy, misclass))\n",
        "    plt.show()\n",
        "\n",
        "plot_confusion_matrix(cm           = confusion_matrix(df_test['y_tru'],df_test['predicted']),\n",
        "                      normalize    = False,\n",
        "                      target_names = ['Positivee' , 'Negative'],\n",
        "                      title        = \"Confusion Matrix\")"
      ],
      "execution_count": null,
      "outputs": [
        {
          "output_type": "display_data",
          "data": {
            "image/png": "[encoded data removed]",
            "text/plain": [
              "<Figure size 576x432 with 2 Axes>"
            ]
          },
          "metadata": {
            "tags": [],
            "needs_background": "light"
          }
        }
      ]
    },
    {
      "cell_type": "code",
      "metadata": {
        "id": "rMfUzscMGPqa"
      },
      "source": [
        "# #model = make_model(output_bias = initial_bias, metrics=tf.keras.metrics.AUC(name='auc'))\n",
        "# print(len(model.layers))\n",
        "# print(m)\n",
        "# # for i in range(len(m) , 0 , -1):\n",
        "# #     model.layers[i].set_weights(weights)"
      ],
      "execution_count": null,
      "outputs": []
    },
    {
      "cell_type": "code",
      "metadata": {
        "id": "AMOkQSLd6HfV"
      },
      "source": [
        "# import os\n",
        "# import numpy as np\n",
        "# import cv2\n",
        "# import random\n",
        "# import keras.backend as K\n",
        "\n",
        "# def load_image(root , images_path, size = 320):\n",
        "#   Images = []\n",
        "#   for path in images_path:\n",
        "#     try:\n",
        "#       p = os.path.join(root,path)\n",
        "#       image = cv2.imread(p)\n",
        "#       image = cv2.resize(image,(size,size))\n",
        "#       Images.append(image)\n",
        "\n",
        "#     except Exception as e:\n",
        "#       print(str(e))\n",
        "\n",
        "#   Images = np.asarray(Images).astype('float32')\n",
        "\n",
        "#   mean = np.mean(Images)\n",
        "#   std = np.std(Images)\n",
        "#   Images = (Images - mean) / std\n",
        "#   return Images"
      ],
      "execution_count": null,
      "outputs": []
    },
    {
      "cell_type": "code",
      "metadata": {
        "id": "4no3rooF7qmR"
      },
      "source": [
        "# test_x , test_y = load_image(ROOT_DIR , test_data.iloc[:5,0] , 320) , test_data.iloc[:5,1]\n",
        "# test_data= test_data[:10]\n",
        "# test_generator = generator(test_data.values,ROOT_DIR, shuffle_data=False, batch_size=5)"
      ],
      "execution_count": null,
      "outputs": []
    },
    {
      "cell_type": "code",
      "metadata": {
        "colab": {
          "base_uri": "https://localhost:8080/"
        },
        "id": "vhZpOuFE5olF",
        "outputId": "e7a271a4-c1c3-4be5-f522-5f699012b829"
      },
      "source": [
        "model       = keras.models.load_model('/content/drive/MyDrive/Broner/InceptionResnet/0.hdf5')\n",
        "y_pred      = model.predict_generator(test_generator ,2)\n",
        "y_pred      = y_pred>=0.5\n",
        "y_pred      = np.uint8(y_pred)"
      ],
      "execution_count": null,
      "outputs": [
        {
          "output_type": "stream",
          "text": [
            "/usr/local/lib/python3.7/dist-packages/tensorflow/python/keras/engine/training.py:1905: UserWarning: `Model.predict_generator` is deprecated and will be removed in a future version. Please use `Model.predict`, which supports generators.\n",
            "  warnings.warn('`Model.predict_generator` is deprecated and '\n"
          ],
          "name": "stderr"
        }
      ]
    },
    {
      "cell_type": "code",
      "metadata": {
        "id": "14ZJNY7FWH0t"
      },
      "source": [
        "# # stacked generalization with linear meta model on blobs dataset\n",
        "# from sklearn.metrics import accuracy_score\n",
        "# from sklearn.linear_model import LogisticRegression\n",
        "# from keras.utils import to_categorical\n",
        "# from numpy import dstack\n",
        "\n",
        "\n",
        "# # create stacked model input dataset as outputs from the ensemble\n",
        "# def stacked_dataset(dir, gen, generator  ,batch_size , size):\n",
        "#   stackX = None\n",
        "#   tru_lab = None\n",
        "#   for f in os.listdir(dir):\n",
        "#     # make prediction\n",
        "#     filepath = os.path.join(dir, f)\n",
        "#     print(filepath)\n",
        "#     model= keras.models.load_model(filepath)\n",
        "#     yhat = model.predict_generator(generator, int(size/batch_size))\n",
        "#     tru_lab = gen.labels\n",
        "#     print(len(gen.labels))\n",
        "#     tru_lab = tru_lab[batch_size:]\n",
        "#     gen.labels=[]\n",
        "#     yhat = yhat>=0.5\n",
        "#     yhat = np.uint8(yhat)\n",
        "#     # stack predictions into [rows, members, probabilities]\n",
        "#     if stackX is None:\n",
        "#       stackX = yhat\n",
        "#     else:\n",
        "#       stackX = dstack((stackX, yhat))\n",
        "#   # flatten predictions to [rows, members x probabilities]\n",
        "#   stackX = stackX.reshape((stackX.shape[0], stackX.shape[1]*stackX.shape[2]))\n",
        "\n",
        "#   return stackX , tru_lab\n",
        "\n",
        "# # fit a model based on the outputs from the ensemble members\n",
        "# def fit_stacked_model(dir, gen , generator , batch_size , size):\n",
        "#   # create dataset using ensemble\n",
        "#   stackedX , inputy= stacked_dataset(dir ,gen, generator , batch_size , size)\n",
        "#   # fit standalone model\n",
        "#   print(len(stackedX))\n",
        "#   print(len(inputy))\n",
        "#   model = LogisticRegression()\n",
        "#   model.fit(stackedX, inputy)\n",
        "#   return model\n",
        "\n",
        "# # make a prediction with the stacked model\n",
        "# def stacked_prediction(dir, model, gen ,generator , batch_size , size):\n",
        "# \t# create dataset using ensemble\n",
        "# \tstackedX, y_tru = stacked_dataset(dir, gen ,generator , batch_size, size)\n",
        "# \t# make a prediction\n",
        "# \tyhat = model.predict(stackedX)\n",
        "# \treturn yhat , y_tru\n",
        "\n",
        "# # generate 2d classification dataset\n",
        "# # X, y = make_blobs(n_samples=1100, centers=3, n_features=2, cluster_std=2, random_state=2)\n",
        "# # # split into train and test\n",
        "# # n_train = 100\n",
        "# # trainX, testX = X[:n_train, :], X[n_train:, :]\n",
        "# # trainy, testy = y[:n_train], y[n_train:]\n",
        "# # print(trainX.shape, testX.shape)\n",
        "# # # load all models\n",
        "# # n_members = 5\n",
        "# # members = load_all_models(n_members)\n",
        "# # print('Loaded %d models' % len(members))\n",
        "# # # evaluate standalone models on test dataset\n",
        "# # for model in members:\n",
        "# # \ttesty_enc = to_categorical(testy)\n",
        "# # \t_, acc = model.evaluate(testX, testy_enc, verbose=0)\n",
        "# # \tprint('Model Accuracy: %.3f' % acc)\n",
        "# # # fit stacked model using the ensemble\n",
        "\n",
        "# ushufgen    = data_generator()\n",
        "# unshuftrain = ushufgen.generator(train_data.values,ROOT_DIR,shuffle_data=False, batch_size=20)\n",
        "\n",
        "# ushuftestgen= data_generator()\n",
        "# unshuftest  = ushuftestgen.generator(test_data.values,ROOT_DIR,shuffle_data=False, batch_size=5)\n",
        "\n",
        "# model = fit_stacked_model('/content/drive/MyDrive/Broner/InceptionResnet', ushufgen, unshuftrain , 20 , 100)\n",
        "# # evaluate model on test set\n",
        "# yhat , y_tru = stacked_prediction('/content/drive/MyDrive/Broner/InceptionResnet', model,ushuftestgen, unshuftest , 5, 10)\n",
        "# acc = accuracy_score(y_tru, yhat)\n",
        "# print('Stacked Test Accuracy: %.3f' % acc)"
      ],
      "execution_count": null,
      "outputs": []
    },
    {
      "cell_type": "code",
      "metadata": {
        "id": "NnCc9-Av9Ird"
      },
      "source": [
        "# from sklearn.metrics import plot_confusion_matrix , confusion_matrix\n",
        "# import seaborn as sn\n",
        "# cm=confusion_matrix(test_y,y_pred)\n",
        "# df_cm = pd.DataFrame(cm)\n",
        "# print(df_cm)\n",
        "# plt.figure(figsize = (10,7))\n",
        "# sn.heatmap(df_cm, annot=True)"
      ],
      "execution_count": null,
      "outputs": []
    }
  ]
}