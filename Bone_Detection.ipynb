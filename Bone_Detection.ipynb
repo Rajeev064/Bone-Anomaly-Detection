{
  "nbformat": 4,
  "nbformat_minor": 0,
  "metadata": {
    "colab": {
      "name": "Bone Detection",
      "provenance": [],
      "collapsed_sections": []
    },
    "kernelspec": {
      "display_name": "Python 3",
      "name": "python3"
    },
    "language_info": {
      "name": "python"
    },
    "accelerator": "GPU"
  },
  "cells": [
    {
      "cell_type": "code",
      "metadata": {
        "id": "qCnNOwCin1Nj"
      },
      "source": [
        "import tensorflow as tf\n",
        "import numpy as np\n",
        "import keras\n",
        "import pandas as pd\n",
        "import matplotlib.pyplot as plt\n",
        "from sklearn.utils import shuffle\n",
        "import os\n",
        "import cv2\n",
        "import random\n",
        "import keras.backend as K\n",
        "import sklearn\n",
        "from tensorflow.keras.models import Sequential, Model\n",
        "from tensorflow.keras.preprocessing.image import ImageDataGenerator\n",
        "from tensorflow.keras.layers import Dense, Dropout, Activation, Input, BatchNormalization, GlobalAveragePooling2D\n",
        "from tensorflow.keras import layers\n",
        "from tensorflow.keras.callbacks import ModelCheckpoint, ReduceLROnPlateau, EarlyStopping\n",
        "from tensorflow.keras.experimental import CosineDecay\n",
        "from tensorflow.keras.utils import to_categorical\n",
        "from tensorflow.keras.applications import EfficientNetB3\n",
        "from tensorflow.keras.layers.experimental.preprocessing import RandomCrop,CenterCrop, RandomRotation\n",
        "%matplotlib inline"
      ],
      "execution_count": null,
      "outputs": []
    },
    {
      "cell_type": "code",
      "metadata": {
        "colab": {
          "base_uri": "https://localhost:8080/"
        },
        "id": "WPBiLeOrn8rP",
        "outputId": "f7f15712-028e-4c39-b50b-8c75b9d90e92"
      },
      "source": [
        "from google.colab import drive\n",
        "drive.mount('/content/drive')"
      ],
      "execution_count": null,
      "outputs": [
        {
          "output_type": "stream",
          "text": [
            "Drive already mounted at /content/drive; to attempt to forcibly remount, call drive.mount(\"/content/drive\", force_remount=True).\n"
          ],
          "name": "stdout"
        }
      ]
    },
    {
      "cell_type": "code",
      "metadata": {
        "colab": {
          "base_uri": "https://localhost:8080/",
          "height": 392
        },
        "id": "lSsX9l_Wn91o",
        "outputId": "e9bb4299-7b46-4ba9-f3c4-ba1a7bbd9fbc"
      },
      "source": [
        "ROOT_DIR = '/content/drive/MyDrive/Broner'\n",
        "train_data = pd.read_csv('/content/drive/MyDrive/Broner/MURA-v1.1/train_path_label.csv' , dtype=str)\n",
        "test_data  = pd.read_csv('/content/drive/MyDrive/Broner/MURA-v1.1/valid_path_label.csv' , dtype=str)\n",
        "train_data\n"
      ],
      "execution_count": null,
      "outputs": [
        {
          "output_type": "execute_result",
          "data": {
            "text/html": [
              "<div>\n",
              "<style scoped>\n",
              "    .dataframe tbody tr th:only-of-type {\n",
              "        vertical-align: middle;\n",
              "    }\n",
              "\n",
              "    .dataframe tbody tr th {\n",
              "        vertical-align: top;\n",
              "    }\n",
              "\n",
              "    .dataframe thead th {\n",
              "        text-align: right;\n",
              "    }\n",
              "</style>\n",
              "<table border=\"1\" class=\"dataframe\">\n",
              "  <thead>\n",
              "    <tr style=\"text-align: right;\">\n",
              "      <th></th>\n",
              "      <th>0</th>\n",
              "      <th>label</th>\n",
              "    </tr>\n",
              "  </thead>\n",
              "  <tbody>\n",
              "    <tr>\n",
              "      <th>0</th>\n",
              "      <td>MURA-v1.1/train/XR_SHOULDER/patient00001/study...</td>\n",
              "      <td>1</td>\n",
              "    </tr>\n",
              "    <tr>\n",
              "      <th>1</th>\n",
              "      <td>MURA-v1.1/train/XR_SHOULDER/patient00001/study...</td>\n",
              "      <td>1</td>\n",
              "    </tr>\n",
              "    <tr>\n",
              "      <th>2</th>\n",
              "      <td>MURA-v1.1/train/XR_SHOULDER/patient00001/study...</td>\n",
              "      <td>1</td>\n",
              "    </tr>\n",
              "    <tr>\n",
              "      <th>3</th>\n",
              "      <td>MURA-v1.1/train/XR_SHOULDER/patient00002/study...</td>\n",
              "      <td>1</td>\n",
              "    </tr>\n",
              "    <tr>\n",
              "      <th>4</th>\n",
              "      <td>MURA-v1.1/train/XR_SHOULDER/patient00002/study...</td>\n",
              "      <td>1</td>\n",
              "    </tr>\n",
              "    <tr>\n",
              "      <th>...</th>\n",
              "      <td>...</td>\n",
              "      <td>...</td>\n",
              "    </tr>\n",
              "    <tr>\n",
              "      <th>36803</th>\n",
              "      <td>MURA-v1.1/train/XR_HAND/patient11183/study1_ne...</td>\n",
              "      <td>0</td>\n",
              "    </tr>\n",
              "    <tr>\n",
              "      <th>36804</th>\n",
              "      <td>MURA-v1.1/train/XR_HAND/patient11183/study1_ne...</td>\n",
              "      <td>0</td>\n",
              "    </tr>\n",
              "    <tr>\n",
              "      <th>36805</th>\n",
              "      <td>MURA-v1.1/train/XR_HAND/patient11184/study1_ne...</td>\n",
              "      <td>0</td>\n",
              "    </tr>\n",
              "    <tr>\n",
              "      <th>36806</th>\n",
              "      <td>MURA-v1.1/train/XR_HAND/patient11184/study1_ne...</td>\n",
              "      <td>0</td>\n",
              "    </tr>\n",
              "    <tr>\n",
              "      <th>36807</th>\n",
              "      <td>MURA-v1.1/train/XR_HAND/patient11184/study1_ne...</td>\n",
              "      <td>0</td>\n",
              "    </tr>\n",
              "  </tbody>\n",
              "</table>\n",
              "<p>36808 rows × 2 columns</p>\n",
              "</div>"
            ],
            "text/plain": [
              "                                                       0 label\n",
              "0      MURA-v1.1/train/XR_SHOULDER/patient00001/study...     1\n",
              "1      MURA-v1.1/train/XR_SHOULDER/patient00001/study...     1\n",
              "2      MURA-v1.1/train/XR_SHOULDER/patient00001/study...     1\n",
              "3      MURA-v1.1/train/XR_SHOULDER/patient00002/study...     1\n",
              "4      MURA-v1.1/train/XR_SHOULDER/patient00002/study...     1\n",
              "...                                                  ...   ...\n",
              "36803  MURA-v1.1/train/XR_HAND/patient11183/study1_ne...     0\n",
              "36804  MURA-v1.1/train/XR_HAND/patient11183/study1_ne...     0\n",
              "36805  MURA-v1.1/train/XR_HAND/patient11184/study1_ne...     0\n",
              "36806  MURA-v1.1/train/XR_HAND/patient11184/study1_ne...     0\n",
              "36807  MURA-v1.1/train/XR_HAND/patient11184/study1_ne...     0\n",
              "\n",
              "[36808 rows x 2 columns]"
            ]
          },
          "metadata": {
            "tags": []
          },
          "execution_count": 3
        }
      ]
    },
    {
      "cell_type": "code",
      "metadata": {
        "id": "FMdLsSozoKXV"
      },
      "source": [
        "train_shoulder = train_data[:1300]\n",
        "train_humerus  = train_data[8379:9651]\n",
        "train_forearm  = train_data[29940:31265]\n",
        " \n",
        "test_shoulder = test_data[1708:2100]\n",
        "test_forearm  = test_data[659:960]\n",
        "test_humerus  = test_data[1420:1708]"
      ],
      "execution_count": null,
      "outputs": []
    },
    {
      "cell_type": "code",
      "metadata": {
        "colab": {
          "base_uri": "https://localhost:8080/"
        },
        "id": "IZASQ9dQoP8c",
        "outputId": "e52bce71-79cf-4d8f-e794-6b1865a4cb8e"
      },
      "source": [
        "def change_class(df,val):\n",
        "  for i in range(len(df)):\n",
        "    df['label'] = val\n",
        "  return df\n",
        "temp = change_class(train_shoulder,'0')\n",
        "type(temp['label'][0])"
      ],
      "execution_count": null,
      "outputs": [
        {
          "output_type": "stream",
          "text": [
            "/usr/local/lib/python3.7/dist-packages/ipykernel_launcher.py:3: SettingWithCopyWarning: \n",
            "A value is trying to be set on a copy of a slice from a DataFrame.\n",
            "Try using .loc[row_indexer,col_indexer] = value instead\n",
            "\n",
            "See the caveats in the documentation: https://pandas.pydata.org/pandas-docs/stable/user_guide/indexing.html#returning-a-view-versus-a-copy\n",
            "  This is separate from the ipykernel package so we can avoid doing imports until\n"
          ],
          "name": "stderr"
        },
        {
          "output_type": "execute_result",
          "data": {
            "text/plain": [
              "str"
            ]
          },
          "metadata": {
            "tags": []
          },
          "execution_count": 5
        }
      ]
    },
    {
      "cell_type": "code",
      "metadata": {
        "colab": {
          "base_uri": "https://localhost:8080/"
        },
        "id": "qNJeB5IxonYZ",
        "outputId": "42c748b6-af15-4a53-cd6f-51074839227e"
      },
      "source": [
        "train_shoulder = change_class(train_shoulder,'0')\n",
        "train_humerus = change_class(train_humerus,'1')\n",
        "train_forearm = change_class(train_forearm,'2')\n",
        "\n",
        "test_shoulder = change_class(test_shoulder,'0')\n",
        "test_humerus = change_class(test_humerus,'1')\n",
        "test_forearm = change_class(test_forearm,'2')"
      ],
      "execution_count": null,
      "outputs": [
        {
          "output_type": "stream",
          "text": [
            "/usr/local/lib/python3.7/dist-packages/ipykernel_launcher.py:3: SettingWithCopyWarning: \n",
            "A value is trying to be set on a copy of a slice from a DataFrame.\n",
            "Try using .loc[row_indexer,col_indexer] = value instead\n",
            "\n",
            "See the caveats in the documentation: https://pandas.pydata.org/pandas-docs/stable/user_guide/indexing.html#returning-a-view-versus-a-copy\n",
            "  This is separate from the ipykernel package so we can avoid doing imports until\n"
          ],
          "name": "stderr"
        }
      ]
    },
    {
      "cell_type": "code",
      "metadata": {
        "colab": {
          "base_uri": "https://localhost:8080/",
          "height": 392
        },
        "id": "iAbs_wRboxkn",
        "outputId": "a13be166-db36-4515-ad70-f6688ebb1ebf"
      },
      "source": [
        "train_data = pd.concat([train_shoulder , train_forearm , train_humerus] , ignore_index=True)\n",
        "train_data"
      ],
      "execution_count": null,
      "outputs": [
        {
          "output_type": "execute_result",
          "data": {
            "text/html": [
              "<div>\n",
              "<style scoped>\n",
              "    .dataframe tbody tr th:only-of-type {\n",
              "        vertical-align: middle;\n",
              "    }\n",
              "\n",
              "    .dataframe tbody tr th {\n",
              "        vertical-align: top;\n",
              "    }\n",
              "\n",
              "    .dataframe thead th {\n",
              "        text-align: right;\n",
              "    }\n",
              "</style>\n",
              "<table border=\"1\" class=\"dataframe\">\n",
              "  <thead>\n",
              "    <tr style=\"text-align: right;\">\n",
              "      <th></th>\n",
              "      <th>0</th>\n",
              "      <th>label</th>\n",
              "    </tr>\n",
              "  </thead>\n",
              "  <tbody>\n",
              "    <tr>\n",
              "      <th>0</th>\n",
              "      <td>MURA-v1.1/train/XR_SHOULDER/patient00001/study...</td>\n",
              "      <td>0</td>\n",
              "    </tr>\n",
              "    <tr>\n",
              "      <th>1</th>\n",
              "      <td>MURA-v1.1/train/XR_SHOULDER/patient00001/study...</td>\n",
              "      <td>0</td>\n",
              "    </tr>\n",
              "    <tr>\n",
              "      <th>2</th>\n",
              "      <td>MURA-v1.1/train/XR_SHOULDER/patient00001/study...</td>\n",
              "      <td>0</td>\n",
              "    </tr>\n",
              "    <tr>\n",
              "      <th>3</th>\n",
              "      <td>MURA-v1.1/train/XR_SHOULDER/patient00002/study...</td>\n",
              "      <td>0</td>\n",
              "    </tr>\n",
              "    <tr>\n",
              "      <th>4</th>\n",
              "      <td>MURA-v1.1/train/XR_SHOULDER/patient00002/study...</td>\n",
              "      <td>0</td>\n",
              "    </tr>\n",
              "    <tr>\n",
              "      <th>...</th>\n",
              "      <td>...</td>\n",
              "      <td>...</td>\n",
              "    </tr>\n",
              "    <tr>\n",
              "      <th>3892</th>\n",
              "      <td>MURA-v1.1/train/XR_HUMERUS/patient03224/study1...</td>\n",
              "      <td>1</td>\n",
              "    </tr>\n",
              "    <tr>\n",
              "      <th>3893</th>\n",
              "      <td>MURA-v1.1/train/XR_HUMERUS/patient03225/study1...</td>\n",
              "      <td>1</td>\n",
              "    </tr>\n",
              "    <tr>\n",
              "      <th>3894</th>\n",
              "      <td>MURA-v1.1/train/XR_HUMERUS/patient03225/study1...</td>\n",
              "      <td>1</td>\n",
              "    </tr>\n",
              "    <tr>\n",
              "      <th>3895</th>\n",
              "      <td>MURA-v1.1/train/XR_HUMERUS/patient03226/study1...</td>\n",
              "      <td>1</td>\n",
              "    </tr>\n",
              "    <tr>\n",
              "      <th>3896</th>\n",
              "      <td>MURA-v1.1/train/XR_HUMERUS/patient03226/study1...</td>\n",
              "      <td>1</td>\n",
              "    </tr>\n",
              "  </tbody>\n",
              "</table>\n",
              "<p>3897 rows × 2 columns</p>\n",
              "</div>"
            ],
            "text/plain": [
              "                                                      0 label\n",
              "0     MURA-v1.1/train/XR_SHOULDER/patient00001/study...     0\n",
              "1     MURA-v1.1/train/XR_SHOULDER/patient00001/study...     0\n",
              "2     MURA-v1.1/train/XR_SHOULDER/patient00001/study...     0\n",
              "3     MURA-v1.1/train/XR_SHOULDER/patient00002/study...     0\n",
              "4     MURA-v1.1/train/XR_SHOULDER/patient00002/study...     0\n",
              "...                                                 ...   ...\n",
              "3892  MURA-v1.1/train/XR_HUMERUS/patient03224/study1...     1\n",
              "3893  MURA-v1.1/train/XR_HUMERUS/patient03225/study1...     1\n",
              "3894  MURA-v1.1/train/XR_HUMERUS/patient03225/study1...     1\n",
              "3895  MURA-v1.1/train/XR_HUMERUS/patient03226/study1...     1\n",
              "3896  MURA-v1.1/train/XR_HUMERUS/patient03226/study1...     1\n",
              "\n",
              "[3897 rows x 2 columns]"
            ]
          },
          "metadata": {
            "tags": []
          },
          "execution_count": 7
        }
      ]
    },
    {
      "cell_type": "code",
      "metadata": {
        "colab": {
          "base_uri": "https://localhost:8080/",
          "height": 392
        },
        "id": "XPLlOqpzpRxw",
        "outputId": "d77be92c-9da9-4341-a3a9-620502ff6e66"
      },
      "source": [
        "test_data = pd.concat([test_shoulder , test_forearm , test_humerus] , ignore_index=True)\n",
        "test_data"
      ],
      "execution_count": null,
      "outputs": [
        {
          "output_type": "execute_result",
          "data": {
            "text/html": [
              "<div>\n",
              "<style scoped>\n",
              "    .dataframe tbody tr th:only-of-type {\n",
              "        vertical-align: middle;\n",
              "    }\n",
              "\n",
              "    .dataframe tbody tr th {\n",
              "        vertical-align: top;\n",
              "    }\n",
              "\n",
              "    .dataframe thead th {\n",
              "        text-align: right;\n",
              "    }\n",
              "</style>\n",
              "<table border=\"1\" class=\"dataframe\">\n",
              "  <thead>\n",
              "    <tr style=\"text-align: right;\">\n",
              "      <th></th>\n",
              "      <th>0</th>\n",
              "      <th>label</th>\n",
              "    </tr>\n",
              "  </thead>\n",
              "  <tbody>\n",
              "    <tr>\n",
              "      <th>0</th>\n",
              "      <td>MURA-v1.1/valid/XR_SHOULDER/patient11676/study...</td>\n",
              "      <td>0</td>\n",
              "    </tr>\n",
              "    <tr>\n",
              "      <th>1</th>\n",
              "      <td>MURA-v1.1/valid/XR_SHOULDER/patient11676/study...</td>\n",
              "      <td>0</td>\n",
              "    </tr>\n",
              "    <tr>\n",
              "      <th>2</th>\n",
              "      <td>MURA-v1.1/valid/XR_SHOULDER/patient11676/study...</td>\n",
              "      <td>0</td>\n",
              "    </tr>\n",
              "    <tr>\n",
              "      <th>3</th>\n",
              "      <td>MURA-v1.1/valid/XR_SHOULDER/patient11703/study...</td>\n",
              "      <td>0</td>\n",
              "    </tr>\n",
              "    <tr>\n",
              "      <th>4</th>\n",
              "      <td>MURA-v1.1/valid/XR_SHOULDER/patient11703/study...</td>\n",
              "      <td>0</td>\n",
              "    </tr>\n",
              "    <tr>\n",
              "      <th>...</th>\n",
              "      <td>...</td>\n",
              "      <td>...</td>\n",
              "    </tr>\n",
              "    <tr>\n",
              "      <th>976</th>\n",
              "      <td>MURA-v1.1/valid/XR_HUMERUS/patient11225/study1...</td>\n",
              "      <td>1</td>\n",
              "    </tr>\n",
              "    <tr>\n",
              "      <th>977</th>\n",
              "      <td>MURA-v1.1/valid/XR_HUMERUS/patient11701/study1...</td>\n",
              "      <td>1</td>\n",
              "    </tr>\n",
              "    <tr>\n",
              "      <th>978</th>\n",
              "      <td>MURA-v1.1/valid/XR_HUMERUS/patient11701/study1...</td>\n",
              "      <td>1</td>\n",
              "    </tr>\n",
              "    <tr>\n",
              "      <th>979</th>\n",
              "      <td>MURA-v1.1/valid/XR_HUMERUS/patient11702/study1...</td>\n",
              "      <td>1</td>\n",
              "    </tr>\n",
              "    <tr>\n",
              "      <th>980</th>\n",
              "      <td>MURA-v1.1/valid/XR_HUMERUS/patient11702/study1...</td>\n",
              "      <td>1</td>\n",
              "    </tr>\n",
              "  </tbody>\n",
              "</table>\n",
              "<p>981 rows × 2 columns</p>\n",
              "</div>"
            ],
            "text/plain": [
              "                                                     0 label\n",
              "0    MURA-v1.1/valid/XR_SHOULDER/patient11676/study...     0\n",
              "1    MURA-v1.1/valid/XR_SHOULDER/patient11676/study...     0\n",
              "2    MURA-v1.1/valid/XR_SHOULDER/patient11676/study...     0\n",
              "3    MURA-v1.1/valid/XR_SHOULDER/patient11703/study...     0\n",
              "4    MURA-v1.1/valid/XR_SHOULDER/patient11703/study...     0\n",
              "..                                                 ...   ...\n",
              "976  MURA-v1.1/valid/XR_HUMERUS/patient11225/study1...     1\n",
              "977  MURA-v1.1/valid/XR_HUMERUS/patient11701/study1...     1\n",
              "978  MURA-v1.1/valid/XR_HUMERUS/patient11701/study1...     1\n",
              "979  MURA-v1.1/valid/XR_HUMERUS/patient11702/study1...     1\n",
              "980  MURA-v1.1/valid/XR_HUMERUS/patient11702/study1...     1\n",
              "\n",
              "[981 rows x 2 columns]"
            ]
          },
          "metadata": {
            "tags": []
          },
          "execution_count": 8
        }
      ]
    },
    {
      "cell_type": "code",
      "metadata": {
        "id": "4kjXJ84zpUm9"
      },
      "source": [
        "train_data = train_data.sample(frac = 1)\n",
        "test_data  = test_data.sample(frac = 1)"
      ],
      "execution_count": null,
      "outputs": []
    },
    {
      "cell_type": "code",
      "metadata": {
        "id": "mz3RdphKpdAW"
      },
      "source": [
        "from sklearn.model_selection import train_test_split\n",
        "x_train , x_val , y_train , y_val = train_test_split(train_data['0'] , train_data['label'] , test_size = 0.2 , random_state=42 , stratify=train_data['label'])"
      ],
      "execution_count": null,
      "outputs": []
    },
    {
      "cell_type": "code",
      "metadata": {
        "colab": {
          "base_uri": "https://localhost:8080/",
          "height": 392
        },
        "id": "Ozs8F1KsphJV",
        "outputId": "d7fd34f6-03c5-4281-c6b0-2ca9e3a6e106"
      },
      "source": [
        "val_data = pd.DataFrame()\n",
        "val_data['0']=x_val\n",
        "val_data['label']=y_val\n",
        "val_data.reset_index(inplace=True,drop=True)\n",
        "val_data"
      ],
      "execution_count": null,
      "outputs": [
        {
          "output_type": "execute_result",
          "data": {
            "text/html": [
              "<div>\n",
              "<style scoped>\n",
              "    .dataframe tbody tr th:only-of-type {\n",
              "        vertical-align: middle;\n",
              "    }\n",
              "\n",
              "    .dataframe tbody tr th {\n",
              "        vertical-align: top;\n",
              "    }\n",
              "\n",
              "    .dataframe thead th {\n",
              "        text-align: right;\n",
              "    }\n",
              "</style>\n",
              "<table border=\"1\" class=\"dataframe\">\n",
              "  <thead>\n",
              "    <tr style=\"text-align: right;\">\n",
              "      <th></th>\n",
              "      <th>0</th>\n",
              "      <th>label</th>\n",
              "    </tr>\n",
              "  </thead>\n",
              "  <tbody>\n",
              "    <tr>\n",
              "      <th>0</th>\n",
              "      <td>MURA-v1.1/train/XR_HUMERUS/patient02892/study1...</td>\n",
              "      <td>1</td>\n",
              "    </tr>\n",
              "    <tr>\n",
              "      <th>1</th>\n",
              "      <td>MURA-v1.1/train/XR_FOREARM/patient09420/study1...</td>\n",
              "      <td>2</td>\n",
              "    </tr>\n",
              "    <tr>\n",
              "      <th>2</th>\n",
              "      <td>MURA-v1.1/train/XR_HUMERUS/patient02419/study1...</td>\n",
              "      <td>1</td>\n",
              "    </tr>\n",
              "    <tr>\n",
              "      <th>3</th>\n",
              "      <td>MURA-v1.1/train/XR_SHOULDER/patient00006/study...</td>\n",
              "      <td>0</td>\n",
              "    </tr>\n",
              "    <tr>\n",
              "      <th>4</th>\n",
              "      <td>MURA-v1.1/train/XR_HUMERUS/patient03009/study1...</td>\n",
              "      <td>1</td>\n",
              "    </tr>\n",
              "    <tr>\n",
              "      <th>...</th>\n",
              "      <td>...</td>\n",
              "      <td>...</td>\n",
              "    </tr>\n",
              "    <tr>\n",
              "      <th>775</th>\n",
              "      <td>MURA-v1.1/train/XR_SHOULDER/patient00101/study...</td>\n",
              "      <td>0</td>\n",
              "    </tr>\n",
              "    <tr>\n",
              "      <th>776</th>\n",
              "      <td>MURA-v1.1/train/XR_HUMERUS/patient03095/study1...</td>\n",
              "      <td>1</td>\n",
              "    </tr>\n",
              "    <tr>\n",
              "      <th>777</th>\n",
              "      <td>MURA-v1.1/train/XR_FOREARM/patient09251/study1...</td>\n",
              "      <td>2</td>\n",
              "    </tr>\n",
              "    <tr>\n",
              "      <th>778</th>\n",
              "      <td>MURA-v1.1/train/XR_SHOULDER/patient00022/study...</td>\n",
              "      <td>0</td>\n",
              "    </tr>\n",
              "    <tr>\n",
              "      <th>779</th>\n",
              "      <td>MURA-v1.1/train/XR_HUMERUS/patient02892/study1...</td>\n",
              "      <td>1</td>\n",
              "    </tr>\n",
              "  </tbody>\n",
              "</table>\n",
              "<p>780 rows × 2 columns</p>\n",
              "</div>"
            ],
            "text/plain": [
              "                                                     0 label\n",
              "0    MURA-v1.1/train/XR_HUMERUS/patient02892/study1...     1\n",
              "1    MURA-v1.1/train/XR_FOREARM/patient09420/study1...     2\n",
              "2    MURA-v1.1/train/XR_HUMERUS/patient02419/study1...     1\n",
              "3    MURA-v1.1/train/XR_SHOULDER/patient00006/study...     0\n",
              "4    MURA-v1.1/train/XR_HUMERUS/patient03009/study1...     1\n",
              "..                                                 ...   ...\n",
              "775  MURA-v1.1/train/XR_SHOULDER/patient00101/study...     0\n",
              "776  MURA-v1.1/train/XR_HUMERUS/patient03095/study1...     1\n",
              "777  MURA-v1.1/train/XR_FOREARM/patient09251/study1...     2\n",
              "778  MURA-v1.1/train/XR_SHOULDER/patient00022/study...     0\n",
              "779  MURA-v1.1/train/XR_HUMERUS/patient02892/study1...     1\n",
              "\n",
              "[780 rows x 2 columns]"
            ]
          },
          "metadata": {
            "tags": []
          },
          "execution_count": 11
        }
      ]
    },
    {
      "cell_type": "code",
      "metadata": {
        "colab": {
          "base_uri": "https://localhost:8080/"
        },
        "id": "B5_m5Il1pmKs",
        "outputId": "66de9f3f-e518-4429-a19b-90a7c78c3c65"
      },
      "source": [
        "print(len(train_data) , len(test_data) , len(val_data))"
      ],
      "execution_count": null,
      "outputs": [
        {
          "output_type": "stream",
          "text": [
            "3897 981 780\n"
          ],
          "name": "stdout"
        }
      ]
    },
    {
      "cell_type": "code",
      "metadata": {
        "id": "qD1IF0hJpoKq"
      },
      "source": [
        "def preproc(image):\n",
        "  image = image/255.\n",
        "  image[:,:,0] = (image[:,:,0]-0.485)/0.229\n",
        "  image[:,:,1] = (image[:,:,1]-0.456)/0.224\n",
        "  image[:,:,2] = (image[:,:,2]-0.406)/0.225\n",
        "  return image"
      ],
      "execution_count": null,
      "outputs": []
    },
    {
      "cell_type": "code",
      "metadata": {
        "id": "8HHL2DHMprCJ"
      },
      "source": [
        "train_datagen = keras.preprocessing.image.ImageDataGenerator(\n",
        "    preprocessing_function = preproc,\n",
        "    rotation_range=20,\n",
        "    horizontal_flip=True,\n",
        "    zoom_range = 0.15,\n",
        "    validation_split = 0.1)\n",
        "\n",
        "test_datagen = keras.preprocessing.image.ImageDataGenerator(\n",
        "    preprocessing_function = preproc) "
      ],
      "execution_count": null,
      "outputs": []
    },
    {
      "cell_type": "code",
      "metadata": {
        "colab": {
          "base_uri": "https://localhost:8080/"
        },
        "id": "kUd4evcNpu5r",
        "outputId": "da36996f-f0fc-4cf9-e594-c9891240fb02"
      },
      "source": [
        "train_generator=train_datagen.flow_from_dataframe(\n",
        "dataframe=train_data,\n",
        "directory=ROOT_DIR, \n",
        "x_col=\"0\",\n",
        "y_col=\"label\",\n",
        "subset=\"training\",\n",
        "batch_size=128,\n",
        "seed=42,\n",
        "shuffle=True,\n",
        "class_mode=\"sparse\",\n",
        "target_size=(320,320))\n",
        " \n",
        "valid_generator=train_datagen.flow_from_dataframe(\n",
        "dataframe=train_data,\n",
        "directory=ROOT_DIR,\n",
        "x_col=\"0\",\n",
        "y_col=\"label\",\n",
        "subset=\"validation\",\n",
        "batch_size=128,\n",
        "seed=42,\n",
        "shuffle=True,\n",
        "class_mode=\"sparse\",\n",
        "target_size=(320,320))"
      ],
      "execution_count": null,
      "outputs": [
        {
          "output_type": "stream",
          "text": [
            "Found 3508 validated image filenames belonging to 3 classes.\n",
            "Found 389 validated image filenames belonging to 3 classes.\n"
          ],
          "name": "stdout"
        }
      ]
    },
    {
      "cell_type": "code",
      "metadata": {
        "id": "49WFnqlfqctK"
      },
      "source": [
        "from tensorflow.python.keras.models import Sequential\n",
        "from tensorflow.python.keras.layers import Dropout, Flatten, Dense, Activation, Convolution2D, MaxPooling2D"
      ],
      "execution_count": null,
      "outputs": []
    },
    {
      "cell_type": "code",
      "metadata": {
        "id": "LpWRFJbfsbiW"
      },
      "source": [
        "# TARGET_SIZE = 320\n",
        "# cnn = Sequential()\n",
        "# cnn.add(Convolution2D(filters=32, kernel_size=5, padding =\"same\", input_shape=(TARGET_SIZE, TARGET_SIZE, 3), activation='relu'))\n",
        "# cnn.add(MaxPooling2D(pool_size=(3,3)))\n",
        "\n",
        "# cnn.add(Convolution2D(filters=64, kernel_size=3, padding =\"same\",activation='relu'))\n",
        "# cnn.add(MaxPooling2D(pool_size=(3,3)))\n",
        "\n",
        "# cnn.add(Convolution2D(filters=128, kernel_size=3, padding =\"same\",activation='relu'))\n",
        "# cnn.add(MaxPooling2D(pool_size=(3,3)))\n",
        "\n",
        "# cnn.add(Flatten())\n",
        "# cnn.add(Dense(100, activation='relu'))\n",
        "# cnn.add(Dropout(0.5))\n",
        "# cnn.add(Dense(3, activation='softmax'))\n",
        "# cnn.summary()\n",
        "from keras.layers.normalization import BatchNormalization\n",
        "from keras.layers import Dropout\n",
        "def make_model(metrics = None):    \n",
        "        \n",
        "    base_model = keras.applications.InceptionResNetV2(input_shape=(*[320,320], 3),\n",
        "                                                include_top=False,\n",
        "                                                weights='imagenet')\n",
        "    \n",
        "    base_model.trainable = False\n",
        "    \n",
        "    model = tf.keras.Sequential([\n",
        "        base_model,\n",
        "        keras.layers.GlobalAveragePooling2D(),\n",
        "        keras.layers.Dense(512),\n",
        "        BatchNormalization(),\n",
        "        keras.layers.Activation('relu'),\n",
        "        Dropout(0.5),\n",
        "        keras.layers.Dense(256),\n",
        "        BatchNormalization(),\n",
        "        keras.layers.Activation('relu'),\n",
        "        Dropout(0.4),\n",
        "        keras.layers.Dense(128),\n",
        "        BatchNormalization(),\n",
        "        keras.layers.Activation('relu'),\n",
        "        Dropout(0.3),\n",
        "        keras.layers.Dense(64),\n",
        "        BatchNormalization(),\n",
        "        keras.layers.Activation('relu'),\n",
        "        keras.layers.Dense(3, activation='softmax')\n",
        "    ])\n",
        "    \n",
        "    model.compile(optimizer=tf.keras.optimizers.Adam(learning_rate=0.0005),\n",
        "                  loss='sparse_categorical_crossentropy',\n",
        "                  metrics=metrics)\n",
        "    \n",
        "    return model"
      ],
      "execution_count": null,
      "outputs": []
    },
    {
      "cell_type": "code",
      "metadata": {
        "id": "uX0T3IS2yNls"
      },
      "source": [
        "# def exponential_decay(lr0):\n",
        "#     def exponential_decay_fn(epoch):\n",
        "#       if epoch>5 and epoch%3==0:\n",
        "#         return lr0 * tf.math.exp(-0.1)\n",
        "#       else:\n",
        "#         return lr0\n",
        "#     return exponential_decay_fn\n",
        "\n",
        "# exponential_decay_fn = exponential_decay(0.01)\n",
        "# lr_scheduler = tf.keras.callbacks.LearningRateScheduler(exponential_decay_fn)\n",
        "\n",
        "# checkpoint_cb = tf.keras.callbacks.ModelCheckpoint(\"/content/drive/MyDrive/Broner/bone.h5\",\n",
        "#                                                     save_best_only=True)\n",
        "checkpoint_path = \"/content/drive/MyDrive/Broner/best.hdf5\"\n",
        "cp_callback = tf.keras.callbacks.ModelCheckpoint(filepath=checkpoint_path,\n",
        "                                                 monitor='val_sparse_categorical_accuracy',\n",
        "                                                 save_best_only=True, \n",
        "                                                 save_weights_only=True,\n",
        "                                                 mode='max', \n",
        "                                                 verbose=1)"
      ],
      "execution_count": null,
      "outputs": []
    },
    {
      "cell_type": "code",
      "metadata": {
        "colab": {
          "base_uri": "https://localhost:8080/"
        },
        "id": "HkVLx5QfrXTx",
        "outputId": "7ee24474-87d5-4b2b-ee88-59bb29961311"
      },
      "source": [
        "model = make_model(metrics=['sparse_categorical_accuracy'])\n",
        "model.summary()"
      ],
      "execution_count": null,
      "outputs": [
        {
          "output_type": "stream",
          "text": [
            "Model: \"sequential_1\"\n",
            "_________________________________________________________________\n",
            "Layer (type)                 Output Shape              Param #   \n",
            "=================================================================\n",
            "inception_resnet_v2 (Functio (None, 8, 8, 1536)        54336736  \n",
            "_________________________________________________________________\n",
            "global_average_pooling2d_1 ( (None, 1536)              0         \n",
            "_________________________________________________________________\n",
            "dense_5 (Dense)              (None, 512)               786944    \n",
            "_________________________________________________________________\n",
            "batch_normalization_410 (Bat (None, 512)               2048      \n",
            "_________________________________________________________________\n",
            "activation_410 (Activation)  (None, 512)               0         \n",
            "_________________________________________________________________\n",
            "dropout_3 (Dropout)          (None, 512)               0         \n",
            "_________________________________________________________________\n",
            "dense_6 (Dense)              (None, 256)               131328    \n",
            "_________________________________________________________________\n",
            "batch_normalization_411 (Bat (None, 256)               1024      \n",
            "_________________________________________________________________\n",
            "activation_411 (Activation)  (None, 256)               0         \n",
            "_________________________________________________________________\n",
            "dropout_4 (Dropout)          (None, 256)               0         \n",
            "_________________________________________________________________\n",
            "dense_7 (Dense)              (None, 128)               32896     \n",
            "_________________________________________________________________\n",
            "batch_normalization_412 (Bat (None, 128)               512       \n",
            "_________________________________________________________________\n",
            "activation_412 (Activation)  (None, 128)               0         \n",
            "_________________________________________________________________\n",
            "dropout_5 (Dropout)          (None, 128)               0         \n",
            "_________________________________________________________________\n",
            "dense_8 (Dense)              (None, 64)                8256      \n",
            "_________________________________________________________________\n",
            "batch_normalization_413 (Bat (None, 64)                256       \n",
            "_________________________________________________________________\n",
            "activation_413 (Activation)  (None, 64)                0         \n",
            "_________________________________________________________________\n",
            "dense_9 (Dense)              (None, 3)                 195       \n",
            "=================================================================\n",
            "Total params: 55,300,195\n",
            "Trainable params: 961,539\n",
            "Non-trainable params: 54,338,656\n",
            "_________________________________________________________________\n"
          ],
          "name": "stdout"
        }
      ]
    },
    {
      "cell_type": "code",
      "metadata": {
        "id": "J_44jhQkr1tB"
      },
      "source": [
        "# cnn = model"
      ],
      "execution_count": null,
      "outputs": []
    },
    {
      "cell_type": "code",
      "metadata": {
        "id": "ZDIeFk-CqIln"
      },
      "source": [
        "LR = 0.0005\n",
        "EPOCHS=20\n",
        "\n",
        "STEPS=train_generator.n//train_generator.batch_size\n",
        "VALID_STEPS=valid_generator.n//valid_generator.batch_size\n",
        "# cnn.compile(\n",
        "#   optimizer=tf.keras.optimizers.Adam(learning_rate=LR),\n",
        "#   loss='sparse_categorical_crossentropy',\n",
        "#   metrics=['sparse_categorical_accuracy'])"
      ],
      "execution_count": null,
      "outputs": []
    },
    {
      "cell_type": "code",
      "metadata": {
        "id": "M7sjHTras2kX"
      },
      "source": [
        "# checkpoint_path = \"/content/drive/MyDrive/Broner/best.hdf5\"\n",
        "# cp_callback = tf.keras.callbacks.ModelCheckpoint(filepath=checkpoint_path,\n",
        "#                                                  monitor='val_sparse_categorical_accuracy',\n",
        "#                                                  save_best_only=True, \n",
        "#                                                  save_weights_only=True,\n",
        "#                                                  mode='max', \n",
        "#                                                  verbose=1)"
      ],
      "execution_count": null,
      "outputs": []
    },
    {
      "cell_type": "code",
      "metadata": {
        "id": "VRRDLM05pyCT",
        "colab": {
          "base_uri": "https://localhost:8080/"
        },
        "outputId": "87b26709-7abf-4425-ddbc-4a55ddf1f523"
      },
      "source": [
        "history = model.fit_generator(\n",
        "    train_generator,\n",
        "    steps_per_epoch=STEPS,\n",
        "    epochs=EPOCHS,\n",
        "    validation_data=valid_generator,\n",
        "    callbacks=[cp_callback],\n",
        "    validation_steps=VALID_STEPS)"
      ],
      "execution_count": null,
      "outputs": [
        {
          "output_type": "stream",
          "text": [
            "/usr/local/lib/python3.7/dist-packages/tensorflow/python/keras/engine/training.py:1844: UserWarning: `Model.fit_generator` is deprecated and will be removed in a future version. Please use `Model.fit`, which supports generators.\n",
            "  warnings.warn('`Model.fit_generator` is deprecated and '\n"
          ],
          "name": "stderr"
        },
        {
          "output_type": "stream",
          "text": [
            "Epoch 1/20\n",
            "27/27 [==============================] - 1053s 38s/step - loss: 1.0587 - sparse_categorical_accuracy: 0.5071 - val_loss: 0.6521 - val_sparse_categorical_accuracy: 0.7839\n",
            "\n",
            "Epoch 00001: val_sparse_categorical_accuracy improved from -inf to 0.78385, saving model to /content/drive/MyDrive/Broner/best.hdf5\n",
            "Epoch 2/20\n",
            "27/27 [==============================] - 106s 4s/step - loss: 0.5640 - sparse_categorical_accuracy: 0.7785 - val_loss: 0.4373 - val_sparse_categorical_accuracy: 0.8802\n",
            "\n",
            "Epoch 00002: val_sparse_categorical_accuracy improved from 0.78385 to 0.88021, saving model to /content/drive/MyDrive/Broner/best.hdf5\n",
            "Epoch 3/20\n",
            "27/27 [==============================] - 106s 4s/step - loss: 0.4174 - sparse_categorical_accuracy: 0.8488 - val_loss: 0.4011 - val_sparse_categorical_accuracy: 0.8672\n",
            "\n",
            "Epoch 00003: val_sparse_categorical_accuracy did not improve from 0.88021\n",
            "Epoch 4/20\n",
            "27/27 [==============================] - 107s 4s/step - loss: 0.3353 - sparse_categorical_accuracy: 0.8680 - val_loss: 0.3504 - val_sparse_categorical_accuracy: 0.8776\n",
            "\n",
            "Epoch 00004: val_sparse_categorical_accuracy did not improve from 0.88021\n",
            "Epoch 5/20\n",
            "27/27 [==============================] - 106s 4s/step - loss: 0.2870 - sparse_categorical_accuracy: 0.8966 - val_loss: 0.2990 - val_sparse_categorical_accuracy: 0.8984\n",
            "\n",
            "Epoch 00005: val_sparse_categorical_accuracy improved from 0.88021 to 0.89844, saving model to /content/drive/MyDrive/Broner/best.hdf5\n",
            "Epoch 6/20\n",
            "27/27 [==============================] - 109s 4s/step - loss: 0.2714 - sparse_categorical_accuracy: 0.9061 - val_loss: 0.2033 - val_sparse_categorical_accuracy: 0.9453\n",
            "\n",
            "Epoch 00006: val_sparse_categorical_accuracy improved from 0.89844 to 0.94531, saving model to /content/drive/MyDrive/Broner/best.hdf5\n",
            "Epoch 7/20\n",
            "27/27 [==============================] - 110s 4s/step - loss: 0.2244 - sparse_categorical_accuracy: 0.9191 - val_loss: 0.2451 - val_sparse_categorical_accuracy: 0.9062\n",
            "\n",
            "Epoch 00007: val_sparse_categorical_accuracy did not improve from 0.94531\n",
            "Epoch 8/20\n",
            "27/27 [==============================] - 109s 4s/step - loss: 0.1996 - sparse_categorical_accuracy: 0.9349 - val_loss: 0.2320 - val_sparse_categorical_accuracy: 0.9115\n",
            "\n",
            "Epoch 00008: val_sparse_categorical_accuracy did not improve from 0.94531\n",
            "Epoch 9/20\n",
            "27/27 [==============================] - 108s 4s/step - loss: 0.1969 - sparse_categorical_accuracy: 0.9328 - val_loss: 0.1928 - val_sparse_categorical_accuracy: 0.9297\n",
            "\n",
            "Epoch 00009: val_sparse_categorical_accuracy did not improve from 0.94531\n",
            "Epoch 10/20\n",
            "27/27 [==============================] - 109s 4s/step - loss: 0.1820 - sparse_categorical_accuracy: 0.9365 - val_loss: 0.2400 - val_sparse_categorical_accuracy: 0.9141\n",
            "\n",
            "Epoch 00010: val_sparse_categorical_accuracy did not improve from 0.94531\n",
            "Epoch 11/20\n",
            "27/27 [==============================] - 109s 4s/step - loss: 0.1773 - sparse_categorical_accuracy: 0.9386 - val_loss: 0.1858 - val_sparse_categorical_accuracy: 0.9401\n",
            "\n",
            "Epoch 00011: val_sparse_categorical_accuracy did not improve from 0.94531\n",
            "Epoch 12/20\n",
            "27/27 [==============================] - 110s 4s/step - loss: 0.1645 - sparse_categorical_accuracy: 0.9425 - val_loss: 0.3347 - val_sparse_categorical_accuracy: 0.8854\n",
            "\n",
            "Epoch 00012: val_sparse_categorical_accuracy did not improve from 0.94531\n",
            "Epoch 13/20\n",
            "27/27 [==============================] - 110s 4s/step - loss: 0.1601 - sparse_categorical_accuracy: 0.9433 - val_loss: 0.1654 - val_sparse_categorical_accuracy: 0.9401\n",
            "\n",
            "Epoch 00013: val_sparse_categorical_accuracy did not improve from 0.94531\n",
            "Epoch 14/20\n",
            "27/27 [==============================] - 109s 4s/step - loss: 0.1559 - sparse_categorical_accuracy: 0.9457 - val_loss: 0.1674 - val_sparse_categorical_accuracy: 0.9401\n",
            "\n",
            "Epoch 00014: val_sparse_categorical_accuracy did not improve from 0.94531\n",
            "Epoch 15/20\n",
            "27/27 [==============================] - 106s 4s/step - loss: 0.1570 - sparse_categorical_accuracy: 0.9441 - val_loss: 0.2268 - val_sparse_categorical_accuracy: 0.9193\n",
            "\n",
            "Epoch 00015: val_sparse_categorical_accuracy did not improve from 0.94531\n",
            "Epoch 16/20\n",
            "27/27 [==============================] - 106s 4s/step - loss: 0.1530 - sparse_categorical_accuracy: 0.9479 - val_loss: 0.2455 - val_sparse_categorical_accuracy: 0.9115\n",
            "\n",
            "Epoch 00016: val_sparse_categorical_accuracy did not improve from 0.94531\n",
            "Epoch 17/20\n",
            "27/27 [==============================] - 106s 4s/step - loss: 0.1287 - sparse_categorical_accuracy: 0.9586 - val_loss: 0.1783 - val_sparse_categorical_accuracy: 0.9349\n",
            "\n",
            "Epoch 00017: val_sparse_categorical_accuracy did not improve from 0.94531\n",
            "Epoch 18/20\n",
            "27/27 [==============================] - 105s 4s/step - loss: 0.1413 - sparse_categorical_accuracy: 0.9525 - val_loss: 0.1615 - val_sparse_categorical_accuracy: 0.9505\n",
            "\n",
            "Epoch 00018: val_sparse_categorical_accuracy improved from 0.94531 to 0.95052, saving model to /content/drive/MyDrive/Broner/best.hdf5\n",
            "Epoch 19/20\n",
            "27/27 [==============================] - 106s 4s/step - loss: 0.1273 - sparse_categorical_accuracy: 0.9537 - val_loss: 0.2298 - val_sparse_categorical_accuracy: 0.9271\n",
            "\n",
            "Epoch 00019: val_sparse_categorical_accuracy did not improve from 0.95052\n",
            "Epoch 20/20\n",
            "27/27 [==============================] - 105s 4s/step - loss: 0.1267 - sparse_categorical_accuracy: 0.9536 - val_loss: 0.2050 - val_sparse_categorical_accuracy: 0.9323\n",
            "\n",
            "Epoch 00020: val_sparse_categorical_accuracy did not improve from 0.95052\n"
          ],
          "name": "stdout"
        }
      ]
    },
    {
      "cell_type": "code",
      "metadata": {
        "id": "wxBAz5bEsrLs"
      },
      "source": [
        "model.save('/content/drive/MyDrive/Broner/model.h5')"
      ],
      "execution_count": null,
      "outputs": []
    },
    {
      "cell_type": "code",
      "metadata": {
        "id": "cnWu-ATo4CKm",
        "colab": {
          "base_uri": "https://localhost:8080/",
          "height": 584
        },
        "outputId": "4d060761-628f-45dc-f557-89c18bc35001"
      },
      "source": [
        "plt.plot(history.history['sparse_categorical_accuracy'])\n",
        "plt.plot(history.history['val_sparse_categorical_accuracy'])\n",
        "plt.title('model accuracy')\n",
        "plt.ylabel('accuracy')\n",
        "plt.xlabel('epoch')\n",
        "plt.legend(['train', 'test'], loc='upper left')\n",
        "plt.show()\n",
        "\n",
        "plt.plot(history.history['loss'])\n",
        "plt.plot(history.history['val_loss'])\n",
        "plt.title('model loss')\n",
        "plt.ylabel('loss')\n",
        "plt.xlabel('epoch')\n",
        "plt.legend(['train', 'test'], loc='upper left')\n",
        "plt.show()"
      ],
      "execution_count": null,
      "outputs": [
        {
          "output_type": "display_data",
          "data": {
            "image/png": "[encoded data removed]",
            "text/plain": [
              "<Figure size 432x288 with 1 Axes>"
            ]
          },
          "metadata": {
            "tags": []
          }
        },
        {
          "output_type": "display_data",
          "data": {
            "image/png": "[encoded data removed]",
            "text/plain": [
              "<Figure size 432x288 with 1 Axes>"
            ]
          },
          "metadata": {
            "tags": []
          }
        }
      ]
    },
    {
      "cell_type": "code",
      "metadata": {
        "id": "LCAMvZMF7mOy"
      },
      "source": [
        "from keras.models import load_model\n",
        "import h5py\n",
        "from keras.preprocessing import image    \n",
        "m = load_model('/content/drive/MyDrive/Broner/model.h5')"
      ],
      "execution_count": null,
      "outputs": []
    },
    {
      "cell_type": "code",
      "metadata": {
        "id": "h-f2dnSY6v38"
      },
      "source": [
        "def new_answer(img):\n",
        "  arr = np.empty(5, dtype=int)\n",
        "  # img = image.load_img(path,target_size=(320,320))\n",
        "  img_tensor = image.img_to_array(img)\n",
        "  img_tensor = np.expand_dims(img_tensor,axis = 0)\n",
        "  img_tensor /= 255\n",
        "  img_tensor[:,:,0] = (img_tensor[:,:,0]-0.485)/0.229\n",
        "  img_tensor[:,:,1] = (img_tensor[:,:,1]-0.456)/0.224\n",
        "  img_tensor[:,:,2] = (img_tensor[:,:,2]-0.406)/0.225\n",
        "  ans = m.predict(img_tensor)\n",
        "  return np.argmax(ans),ans"
      ],
      "execution_count": null,
      "outputs": []
    },
    {
      "cell_type": "code",
      "metadata": {
        "id": "iD_9ARaF6pgY",
        "colab": {
          "base_uri": "https://localhost:8080/"
        },
        "outputId": "12da1fc5-afc9-4d64-f2a1-466deedc9f1a"
      },
      "source": [
        "img = cv2.imread('/content/drive/MyDrive/Broner/MURA-v1.1/valid/XR_SHOULDER/patient11187/study1_negative/image1.png')\n",
        "resized = cv2.resize(img, (320,320))\n",
        "new_answer(resized)\n",
        "#Shoulder = '0' Humerus = '1'  Forearm = '2'"
      ],
      "execution_count": null,
      "outputs": [
        {
          "output_type": "execute_result",
          "data": {
            "text/plain": [
              "(0, array([[0.64501244, 0.3328251 , 0.02216248]], dtype=float32))"
            ]
          },
          "metadata": {
            "tags": []
          },
          "execution_count": 34
        }
      ]
    },
    {
      "cell_type": "code",
      "metadata": {
        "id": "tWXUtpR9MJgo",
        "colab": {
          "base_uri": "https://localhost:8080/",
          "height": 284
        },
        "outputId": "7e58c98f-aadb-4e31-a838-a01bb0f43df7"
      },
      "source": [
        "import seaborn as sns\n",
        "sns.set_theme(style=\"darkgrid\")\n",
        "ax = sns.countplot(x=\"label\", data=train_data)"
      ],
      "execution_count": null,
      "outputs": [
        {
          "output_type": "display_data",
          "data": {
            "image/png": "[encoded data removed]",
            "text/plain": [
              "<Figure size 432x288 with 1 Axes>"
            ]
          },
          "metadata": {
            "tags": []
          }
        }
      ]
    },
    {
      "cell_type": "code",
      "metadata": {
        "id": "AV40noZp9URx"
      },
      "source": [
        ""
      ],
      "execution_count": null,
      "outputs": []
    },
    {
      "cell_type": "code",
      "metadata": {
        "id": "kUL1vNCB8gfV"
      },
      "source": [
        ""
      ],
      "execution_count": null,
      "outputs": []
    },
    {
      "cell_type": "code",
      "metadata": {
        "id": "mJWRHg9t6mji"
      },
      "source": [
        ""
      ],
      "execution_count": null,
      "outputs": []
    }
  ]
}