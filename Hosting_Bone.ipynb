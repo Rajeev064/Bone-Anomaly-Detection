{
  "nbformat": 4,
  "nbformat_minor": 0,
  "metadata": {
    "colab": {
      "name": "Hosting_Bone.ipynb",
      "provenance": [],
      "collapsed_sections": []
    },
    "kernelspec": {
      "display_name": "Python 3",
      "name": "python3"
    },
    "language_info": {
      "name": "python"
    }
  },
  "cells": [
    {
      "cell_type": "code",
      "metadata": {
        "id": "dysBxucQr_pP"
      },
      "source": [
        "import tensorflow as tf\n",
        "import keras\n",
        "import numpy as np\n",
        "import pandas as pd"
      ],
      "execution_count": null,
      "outputs": []
    },
    {
      "cell_type": "code",
      "metadata": {
        "id": "hr-JLHdqvQbj"
      },
      "source": [
        "from keras.preprocessing import image        "
      ],
      "execution_count": null,
      "outputs": []
    },
    {
      "cell_type": "code",
      "metadata": {
        "id": "yXcfcctfsXJY"
      },
      "source": [
        "from keras.models import load_model\n",
        "import h5py\n"
      ],
      "execution_count": null,
      "outputs": []
    },
    {
      "cell_type": "code",
      "metadata": {
        "colab": {
          "base_uri": "https://localhost:8080/"
        },
        "id": "kPgNDLX2v4r5",
        "outputId": "f6198314-f006-469e-85f6-d46d6fbdb98d"
      },
      "source": [
        "from google.colab import drive\n",
        "drive.mount('/content/drive')"
      ],
      "execution_count": null,
      "outputs": [
        {
          "output_type": "stream",
          "text": [
            "Mounted at /content/drive\n"
          ],
          "name": "stdout"
        }
      ]
    },
    {
      "cell_type": "code",
      "metadata": {
        "id": "Oy1fWpyU1LdA"
      },
      "source": [
        "import pickle\n",
        "\n",
        "filename = '/content/drive/MyDrive/Broner/InceptionResnet/Ml/finalized_model.sav'\n",
        "loaded_model = pickle.load(open(filename, 'rb'))\n",
        "m = load_model('/content/drive/MyDrive/Broner/model.h5')\n",
        "m1 = load_model('/content/drive/MyDrive/Broner/InceptionResnet/0.hdf5')\n",
        "m2 = load_model('/content/drive/MyDrive/Broner/InceptionResnet/1.hdf5')\n",
        "m3 = load_model('/content/drive/MyDrive/Broner/InceptionResnet/2.hdf5')\n",
        "m4 = load_model('/content/drive/MyDrive/Broner/InceptionResnet/3.hdf5')\n",
        "m5 = load_model('/content/drive/MyDrive/Broner/InceptionResnet/4.hdf5')"
      ],
      "execution_count": null,
      "outputs": []
    },
    {
      "cell_type": "code",
      "metadata": {
        "id": "OvAdMyL6o6d0"
      },
      "source": [
        "def check_value(var):\n",
        "  \n",
        "  if var>0.5:\n",
        "    return 1\n",
        "  return 0\n",
        "def new_answer(img):\n",
        "  arr = np.empty(5, dtype=int)\n",
        "  # img = image.load_img(path,target_size=(320,320))\n",
        "  img_tensor = image.img_to_array(img)\n",
        "  img_tensor = np.expand_dims(img_tensor,axis = 0)\n",
        "  img_tensor /= 255\n",
        "  img_tensor[:,:,0] = (img_tensor[:,:,0]-0.485)/0.229\n",
        "  img_tensor[:,:,1] = (img_tensor[:,:,1]-0.456)/0.224\n",
        "  img_tensor[:,:,2] = (img_tensor[:,:,2]-0.406)/0.225\n",
        "  ans1 = m1.predict(img_tensor)\n",
        "  arr[0] = check_value(ans1)\n",
        "  ans2 = m2.predict(img_tensor) \n",
        "  arr[1] = check_value(ans2)\n",
        "  ans3 = m3.predict(img_tensor)\n",
        "  arr[2] = check_value(ans3)\n",
        "  ans4 = m4.predict(img_tensor)\n",
        "  arr[3] = check_value(ans4)\n",
        "  ans5 = m5.predict(img_tensor)\n",
        "  arr[4] = check_value(ans5)\n",
        "  arr = arr.reshape(1,-1)\n",
        "  ans = m.predict(img_tensor)\n",
        "  a = np.argmax(ans)\n",
        "  if a == 0:\n",
        "    bone = 'Shoulder'\n",
        "  elif a == 1:\n",
        "    bone = 'Humerus' \n",
        "  else:\n",
        "    bone = 'Forearm'\n",
        "  # print(loaded_model.predict(arr))\n",
        "  return loaded_model.predict(arr),bone"
      ],
      "execution_count": null,
      "outputs": []
    },
    {
      "cell_type": "code",
      "metadata": {
        "id": "V_gf8pg9qmYC",
        "colab": {
          "base_uri": "https://localhost:8080/"
        },
        "outputId": "9125790c-73e2-4c09-f59f-e35c5ac9c0c6"
      },
      "source": [
        "!pip install flask-ngrok"
      ],
      "execution_count": null,
      "outputs": [
        {
          "output_type": "stream",
          "text": [
            "Collecting flask-ngrok\n",
            "  Downloading https://files.pythonhosted.org/packages/af/6c/f54cb686ad1129e27d125d182f90f52b32f284e6c8df58c1bae54fa1adbc/flask_ngrok-0.0.25-py3-none-any.whl\n",
            "Requirement already satisfied: requests in /usr/local/lib/python3.7/dist-packages (from flask-ngrok) (2.23.0)\n",
            "Requirement already satisfied: Flask>=0.8 in /usr/local/lib/python3.7/dist-packages (from flask-ngrok) (1.1.2)\n",
            "Requirement already satisfied: urllib3!=1.25.0,!=1.25.1,<1.26,>=1.21.1 in /usr/local/lib/python3.7/dist-packages (from requests->flask-ngrok) (1.24.3)\n",
            "Requirement already satisfied: chardet<4,>=3.0.2 in /usr/local/lib/python3.7/dist-packages (from requests->flask-ngrok) (3.0.4)\n",
            "Requirement already satisfied: certifi>=2017.4.17 in /usr/local/lib/python3.7/dist-packages (from requests->flask-ngrok) (2020.12.5)\n",
            "Requirement already satisfied: idna<3,>=2.5 in /usr/local/lib/python3.7/dist-packages (from requests->flask-ngrok) (2.10)\n",
            "Requirement already satisfied: Werkzeug>=0.15 in /usr/local/lib/python3.7/dist-packages (from Flask>=0.8->flask-ngrok) (1.0.1)\n",
            "Requirement already satisfied: Jinja2>=2.10.1 in /usr/local/lib/python3.7/dist-packages (from Flask>=0.8->flask-ngrok) (2.11.3)\n",
            "Requirement already satisfied: itsdangerous>=0.24 in /usr/local/lib/python3.7/dist-packages (from Flask>=0.8->flask-ngrok) (1.1.0)\n",
            "Requirement already satisfied: click>=5.1 in /usr/local/lib/python3.7/dist-packages (from Flask>=0.8->flask-ngrok) (7.1.2)\n",
            "Requirement already satisfied: MarkupSafe>=0.23 in /usr/local/lib/python3.7/dist-packages (from Jinja2>=2.10.1->Flask>=0.8->flask-ngrok) (1.1.1)\n",
            "Installing collected packages: flask-ngrok\n",
            "Successfully installed flask-ngrok-0.0.25\n"
          ],
          "name": "stdout"
        }
      ]
    },
    {
      "cell_type": "code",
      "metadata": {
        "id": "CxsfjVd60_m0",
        "colab": {
          "base_uri": "https://localhost:8080/"
        },
        "outputId": "5bf80f7b-006d-4c85-d3df-7c84b7eb9f9f"
      },
      "source": [
        "from flask import Flask,render_template,request\n",
        "from flask_ngrok import run_with_ngrok\n",
        "import cv2,base64,re\n",
        "import werkzeug\n",
        "import keras.models\n",
        "import numpy\n",
        "import scipy.misc\n",
        "app = Flask(__name__,template_folder='/content/drive/MyDrive/templates',static_folder='/content/drive/MyDrive/static')\n",
        "run_with_ngrok(app)   \n",
        "# app.debug = True\n",
        "@app.route(\"/\")\n",
        "def home():\n",
        "    return render_template('index.html')\n",
        "\n",
        "\n",
        "@app.route(\"/image\",methods=['POST','GET'])\n",
        "def answers():\n",
        "  if request.method == 'POST':\n",
        "    imagefile = request.files['img']\n",
        "    filename = 'temp.jpg'\n",
        "    print(\"\\nReceived image File name : \" + imagefile.filename)\n",
        "    imagefile.save(filename)\n",
        "    \n",
        "    img = cv2.imread(filename)\n",
        "    resized = cv2.resize(img, (320,320))\n",
        "\n",
        "    # img = request.files['img']\n",
        "    # r = base64.b64decode(img.read())\n",
        "    # image = np.asarray(bytearray(r), dtype=\"uint8\")\n",
        "    # image = cv2.imdecode(image, cv2.IMREAD_COLOR)\n",
        "    # # image = cv2.cvtColor(image, cv2.COLOR_BGR2RGB)\n",
        "    # resized = cv2.resize(image, (320,320))\n",
        "    # print(resized)\n",
        "    result,bone = new_answer(resized)\n",
        "    if result[0] == 0:\n",
        "      rs = 'negative'\n",
        "    else:\n",
        "      rs = 'positive'\n",
        "    return render_template('index.html',results = rs,bone = bone)\n",
        "  else:\n",
        "    return render_template('index.html')\n",
        "app.run()"
      ],
      "execution_count": null,
      "outputs": [
        {
          "output_type": "stream",
          "text": [
            " * Serving Flask app \"__main__\" (lazy loading)\n",
            " * Environment: production\n",
            "\u001b[31m   WARNING: This is a development server. Do not use it in a production deployment.\u001b[0m\n",
            "\u001b[2m   Use a production WSGI server instead.\u001b[0m\n",
            " * Debug mode: off\n"
          ],
          "name": "stdout"
        },
        {
          "output_type": "stream",
          "text": [
            " * Running on http://127.0.0.1:5000/ (Press CTRL+C to quit)\n"
          ],
          "name": "stderr"
        },
        {
          "output_type": "stream",
          "text": [
            " * Running on http://5afb255e8be7.ngrok.io\n",
            " * Traffic stats available on http://127.0.0.1:4040\n"
          ],
          "name": "stdout"
        },
        {
          "output_type": "stream",
          "text": [
            "127.0.0.1 - - [21/Apr/2021 15:14:22] \"\u001b[37mGET / HTTP/1.1\u001b[0m\" 200 -\n",
            "127.0.0.1 - - [21/Apr/2021 15:14:23] \"\u001b[37mGET /static/style.css HTTP/1.1\u001b[0m\" 200 -\n",
            "127.0.0.1 - - [21/Apr/2021 15:14:23] \"\u001b[33mGET /favicon.ico HTTP/1.1\u001b[0m\" 404 -\n",
            "127.0.0.1 - - [21/Apr/2021 15:14:23] \"\u001b[37mGET / HTTP/1.1\u001b[0m\" 200 -\n",
            "127.0.0.1 - - [21/Apr/2021 15:14:25] \"\u001b[37mGET /static/style.css HTTP/1.1\u001b[0m\" 200 -\n",
            "127.0.0.1 - - [21/Apr/2021 15:14:57] \"\u001b[37mGET / HTTP/1.1\u001b[0m\" 200 -\n"
          ],
          "name": "stderr"
        },
        {
          "output_type": "stream",
          "text": [
            "\n",
            "Received image File name : image1.png\n"
          ],
          "name": "stdout"
        },
        {
          "output_type": "stream",
          "text": [
            "127.0.0.1 - - [21/Apr/2021 15:15:16] \"\u001b[37mGET /image HTTP/1.1\u001b[0m\" 200 -\n",
            "127.0.0.1 - - [21/Apr/2021 15:15:18] \"\u001b[37mGET /static/style.css HTTP/1.1\u001b[0m\" 200 -\n"
          ],
          "name": "stderr"
        },
        {
          "output_type": "stream",
          "text": [
            "WARNING:tensorflow:5 out of the last 5 calls to <function Model.make_predict_function.<locals>.predict_function at 0x7f99ee9fdd40> triggered tf.function retracing. Tracing is expensive and the excessive number of tracings could be due to (1) creating @tf.function repeatedly in a loop, (2) passing tensors with different shapes, (3) passing Python objects instead of tensors. For (1), please define your @tf.function outside of the loop. For (2), @tf.function has experimental_relax_shapes=True option that relaxes argument shapes that can avoid unnecessary retracing. For (3), please refer to https://www.tensorflow.org/guide/function#controlling_retracing and https://www.tensorflow.org/api_docs/python/tf/function for  more details.\n",
            "WARNING:tensorflow:6 out of the last 6 calls to <function Model.make_predict_function.<locals>.predict_function at 0x7f99eda44b00> triggered tf.function retracing. Tracing is expensive and the excessive number of tracings could be due to (1) creating @tf.function repeatedly in a loop, (2) passing tensors with different shapes, (3) passing Python objects instead of tensors. For (1), please define your @tf.function outside of the loop. For (2), @tf.function has experimental_relax_shapes=True option that relaxes argument shapes that can avoid unnecessary retracing. For (3), please refer to https://www.tensorflow.org/guide/function#controlling_retracing and https://www.tensorflow.org/api_docs/python/tf/function for  more details.\n"
          ],
          "name": "stdout"
        },
        {
          "output_type": "stream",
          "text": [
            "127.0.0.1 - - [21/Apr/2021 15:15:40] \"\u001b[37mPOST /image HTTP/1.1\u001b[0m\" 200 -\n",
            "127.0.0.1 - - [21/Apr/2021 15:15:52] \"\u001b[37mGET / HTTP/1.1\u001b[0m\" 200 -\n",
            "127.0.0.1 - - [21/Apr/2021 15:15:53] \"\u001b[37mGET /static/style.css HTTP/1.1\u001b[0m\" 200 -\n",
            "127.0.0.1 - - [21/Apr/2021 15:15:53] \"\u001b[33mGET /favicon.ico HTTP/1.1\u001b[0m\" 404 -\n"
          ],
          "name": "stderr"
        },
        {
          "output_type": "stream",
          "text": [
            "\n",
            "Received image File name : 9.jpg\n"
          ],
          "name": "stdout"
        },
        {
          "output_type": "stream",
          "text": [
            "127.0.0.1 - - [21/Apr/2021 15:16:08] \"\u001b[37mPOST /image HTTP/1.1\u001b[0m\" 200 -\n"
          ],
          "name": "stderr"
        }
      ]
    },
    {
      "cell_type": "code",
      "metadata": {
        "id": "fL0ibKlP0970"
      },
      "source": [
        ""
      ],
      "execution_count": null,
      "outputs": []
    },
    {
      "cell_type": "code",
      "metadata": {
        "id": "V-tfFN-Z02dU"
      },
      "source": [
        ""
      ],
      "execution_count": null,
      "outputs": []
    },
    {
      "cell_type": "code",
      "metadata": {
        "id": "6xWzuf-P00Sb"
      },
      "source": [
        ""
      ],
      "execution_count": null,
      "outputs": []
    },
    {
      "cell_type": "code",
      "metadata": {
        "id": "WFGl2mJc0xq-"
      },
      "source": [
        ""
      ],
      "execution_count": null,
      "outputs": []
    },
    {
      "cell_type": "code",
      "metadata": {
        "id": "itw_XKzh0uMg"
      },
      "source": [
        ""
      ],
      "execution_count": null,
      "outputs": []
    },
    {
      "cell_type": "code",
      "metadata": {
        "id": "1F4g0s460Hoj"
      },
      "source": [
        ""
      ],
      "execution_count": null,
      "outputs": []
    },
    {
      "cell_type": "code",
      "metadata": {
        "id": "DfW41T-f0EJV"
      },
      "source": [
        ""
      ],
      "execution_count": null,
      "outputs": []
    },
    {
      "cell_type": "code",
      "metadata": {
        "id": "F2l0-tKvz_xw"
      },
      "source": [
        ""
      ],
      "execution_count": null,
      "outputs": []
    },
    {
      "cell_type": "code",
      "metadata": {
        "id": "kSoRGbi6zk1k"
      },
      "source": [
        ""
      ],
      "execution_count": null,
      "outputs": []
    },
    {
      "cell_type": "code",
      "metadata": {
        "id": "ATPx1K14zGC9"
      },
      "source": [
        ""
      ],
      "execution_count": null,
      "outputs": []
    },
    {
      "cell_type": "code",
      "metadata": {
        "id": "kLYoSzDbyW2U"
      },
      "source": [
        ""
      ],
      "execution_count": null,
      "outputs": []
    },
    {
      "cell_type": "code",
      "metadata": {
        "id": "FyNmei9EyQ8r"
      },
      "source": [
        ""
      ],
      "execution_count": null,
      "outputs": []
    },
    {
      "cell_type": "code",
      "metadata": {
        "id": "FAl034qwueOb"
      },
      "source": [
        ""
      ],
      "execution_count": null,
      "outputs": []
    },
    {
      "cell_type": "code",
      "metadata": {
        "id": "-GB5S7WktdEJ"
      },
      "source": [
        ""
      ],
      "execution_count": null,
      "outputs": []
    },
    {
      "cell_type": "code",
      "metadata": {
        "id": "HjN3WZNztZhx"
      },
      "source": [
        ""
      ],
      "execution_count": null,
      "outputs": []
    },
    {
      "cell_type": "code",
      "metadata": {
        "id": "wkZnOB-3syYk"
      },
      "source": [
        ""
      ],
      "execution_count": null,
      "outputs": []
    }
  ]
}